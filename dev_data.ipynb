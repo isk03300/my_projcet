{
 "cells": [
  {
   "cell_type": "code",
   "execution_count": 216,
   "id": "d108b154",
   "metadata": {},
   "outputs": [],
   "source": [
    "import pandas as pd\n",
    "import matplotlib.pyplot as plt\n",
    "import seaborn as sb\n",
    "\n",
    "import platform\n",
    "\n",
    "from matplotlib import font_manager, rc\n",
    "plt.rcParams['axes.unicode_minus'] = False\n",
    "\n",
    "if platform.system() == 'Darwin':\n",
    "    rc('font', family='AppleGothic')\n",
    "elif platform.system() == 'Windows':\n",
    "    path = \"c:/Windows/Fonts/malgun.ttf\"\n",
    "    font_name = font_manager.FontProperties(fname=path).get_name()\n",
    "    rc('font', family=font_name)\n",
    "else:\n",
    "    print('Unknown system... sorry~~~~')"
   ]
  },
  {
   "cell_type": "code",
   "execution_count": 2,
   "id": "2a06f4ea",
   "metadata": {},
   "outputs": [],
   "source": [
    "df = pd.read_csv('./data/dev.csv')"
   ]
  },
  {
   "cell_type": "code",
   "execution_count": 3,
   "id": "da55e52c",
   "metadata": {},
   "outputs": [],
   "source": [
    "df = df.drop( [ '법정동코드','자치구코드' ,'지번구분' ,'권리구분','취소일'] , axis=1)"
   ]
  },
  {
   "cell_type": "code",
   "execution_count": 4,
   "id": "a821bda5",
   "metadata": {},
   "outputs": [
    {
     "data": {
      "text/html": [
       "<div>\n",
       "<style scoped>\n",
       "    .dataframe tbody tr th:only-of-type {\n",
       "        vertical-align: middle;\n",
       "    }\n",
       "\n",
       "    .dataframe tbody tr th {\n",
       "        vertical-align: top;\n",
       "    }\n",
       "\n",
       "    .dataframe thead th {\n",
       "        text-align: right;\n",
       "    }\n",
       "</style>\n",
       "<table border=\"1\" class=\"dataframe\">\n",
       "  <thead>\n",
       "    <tr style=\"text-align: right;\">\n",
       "      <th></th>\n",
       "      <th>접수연도</th>\n",
       "      <th>자치구명</th>\n",
       "      <th>법정동명</th>\n",
       "      <th>지번구분명</th>\n",
       "      <th>본번</th>\n",
       "      <th>부번</th>\n",
       "      <th>건물명</th>\n",
       "      <th>계약일</th>\n",
       "      <th>물건금액(만원)</th>\n",
       "      <th>건물면적(㎡)</th>\n",
       "      <th>토지면적(㎡)</th>\n",
       "      <th>층</th>\n",
       "      <th>건축년도</th>\n",
       "      <th>건물용도</th>\n",
       "      <th>신고구분</th>\n",
       "      <th>신고한 개업공인중개사 시군구명</th>\n",
       "    </tr>\n",
       "  </thead>\n",
       "  <tbody>\n",
       "    <tr>\n",
       "      <th>0</th>\n",
       "      <td>2023</td>\n",
       "      <td>강서구</td>\n",
       "      <td>마곡동</td>\n",
       "      <td>대지</td>\n",
       "      <td>776.0</td>\n",
       "      <td>2.0</td>\n",
       "      <td>마곡센트럴대방디엠시티오피스텔</td>\n",
       "      <td>20231121</td>\n",
       "      <td>21500</td>\n",
       "      <td>29.48</td>\n",
       "      <td>42.34</td>\n",
       "      <td>3.0</td>\n",
       "      <td>2017.0</td>\n",
       "      <td>오피스텔</td>\n",
       "      <td>직거래</td>\n",
       "      <td>NaN</td>\n",
       "    </tr>\n",
       "    <tr>\n",
       "      <th>1</th>\n",
       "      <td>2023</td>\n",
       "      <td>동대문구</td>\n",
       "      <td>이문동</td>\n",
       "      <td>대지</td>\n",
       "      <td>327.0</td>\n",
       "      <td>7.0</td>\n",
       "      <td>세진빌딩</td>\n",
       "      <td>20231121</td>\n",
       "      <td>19000</td>\n",
       "      <td>11.48</td>\n",
       "      <td>0.00</td>\n",
       "      <td>12.0</td>\n",
       "      <td>2020.0</td>\n",
       "      <td>아파트</td>\n",
       "      <td>중개거래</td>\n",
       "      <td>서울 동대문구</td>\n",
       "    </tr>\n",
       "    <tr>\n",
       "      <th>2</th>\n",
       "      <td>2023</td>\n",
       "      <td>구로구</td>\n",
       "      <td>구로동</td>\n",
       "      <td>대지</td>\n",
       "      <td>98.0</td>\n",
       "      <td>10.0</td>\n",
       "      <td>비즈트위트그린</td>\n",
       "      <td>20231121</td>\n",
       "      <td>11250</td>\n",
       "      <td>14.86</td>\n",
       "      <td>0.00</td>\n",
       "      <td>16.0</td>\n",
       "      <td>2012.0</td>\n",
       "      <td>아파트</td>\n",
       "      <td>중개거래</td>\n",
       "      <td>서울 동작구</td>\n",
       "    </tr>\n",
       "    <tr>\n",
       "      <th>3</th>\n",
       "      <td>2023</td>\n",
       "      <td>송파구</td>\n",
       "      <td>오금동</td>\n",
       "      <td>대지</td>\n",
       "      <td>39.0</td>\n",
       "      <td>5.0</td>\n",
       "      <td>에일린하우스</td>\n",
       "      <td>20231121</td>\n",
       "      <td>58000</td>\n",
       "      <td>54.67</td>\n",
       "      <td>28.47</td>\n",
       "      <td>6.0</td>\n",
       "      <td>2016.0</td>\n",
       "      <td>연립다세대</td>\n",
       "      <td>직거래</td>\n",
       "      <td>NaN</td>\n",
       "    </tr>\n",
       "    <tr>\n",
       "      <th>4</th>\n",
       "      <td>2023</td>\n",
       "      <td>마포구</td>\n",
       "      <td>상암동</td>\n",
       "      <td>대지</td>\n",
       "      <td>1597.0</td>\n",
       "      <td>0.0</td>\n",
       "      <td>사보이시티디엠씨</td>\n",
       "      <td>20231121</td>\n",
       "      <td>15500</td>\n",
       "      <td>21.65</td>\n",
       "      <td>29.78</td>\n",
       "      <td>14.0</td>\n",
       "      <td>2016.0</td>\n",
       "      <td>오피스텔</td>\n",
       "      <td>중개거래</td>\n",
       "      <td>서울 은평구</td>\n",
       "    </tr>\n",
       "    <tr>\n",
       "      <th>...</th>\n",
       "      <td>...</td>\n",
       "      <td>...</td>\n",
       "      <td>...</td>\n",
       "      <td>...</td>\n",
       "      <td>...</td>\n",
       "      <td>...</td>\n",
       "      <td>...</td>\n",
       "      <td>...</td>\n",
       "      <td>...</td>\n",
       "      <td>...</td>\n",
       "      <td>...</td>\n",
       "      <td>...</td>\n",
       "      <td>...</td>\n",
       "      <td>...</td>\n",
       "      <td>...</td>\n",
       "      <td>...</td>\n",
       "    </tr>\n",
       "    <tr>\n",
       "      <th>62735</th>\n",
       "      <td>2023</td>\n",
       "      <td>강서구</td>\n",
       "      <td>공항동</td>\n",
       "      <td>대지</td>\n",
       "      <td>61.0</td>\n",
       "      <td>89.0</td>\n",
       "      <td>남성아트빌</td>\n",
       "      <td>20210125</td>\n",
       "      <td>36800</td>\n",
       "      <td>29.47</td>\n",
       "      <td>19.00</td>\n",
       "      <td>6.0</td>\n",
       "      <td>2015.0</td>\n",
       "      <td>연립다세대</td>\n",
       "      <td>NaN</td>\n",
       "      <td>NaN</td>\n",
       "    </tr>\n",
       "    <tr>\n",
       "      <th>62736</th>\n",
       "      <td>2023</td>\n",
       "      <td>은평구</td>\n",
       "      <td>신사동</td>\n",
       "      <td>대지</td>\n",
       "      <td>370.0</td>\n",
       "      <td>0.0</td>\n",
       "      <td>은평신사두산위브</td>\n",
       "      <td>20200608</td>\n",
       "      <td>73500</td>\n",
       "      <td>84.96</td>\n",
       "      <td>0.00</td>\n",
       "      <td>9.0</td>\n",
       "      <td>2006.0</td>\n",
       "      <td>아파트</td>\n",
       "      <td>NaN</td>\n",
       "      <td>NaN</td>\n",
       "    </tr>\n",
       "    <tr>\n",
       "      <th>62737</th>\n",
       "      <td>2023</td>\n",
       "      <td>마포구</td>\n",
       "      <td>성산동</td>\n",
       "      <td>대지</td>\n",
       "      <td>593.0</td>\n",
       "      <td>5.0</td>\n",
       "      <td>상암미르웰한올림</td>\n",
       "      <td>20181030</td>\n",
       "      <td>15500</td>\n",
       "      <td>16.36</td>\n",
       "      <td>22.99</td>\n",
       "      <td>13.0</td>\n",
       "      <td>2018.0</td>\n",
       "      <td>오피스텔</td>\n",
       "      <td>NaN</td>\n",
       "      <td>NaN</td>\n",
       "    </tr>\n",
       "    <tr>\n",
       "      <th>62738</th>\n",
       "      <td>2023</td>\n",
       "      <td>양천구</td>\n",
       "      <td>신월동</td>\n",
       "      <td>NaN</td>\n",
       "      <td>NaN</td>\n",
       "      <td>NaN</td>\n",
       "      <td>NaN</td>\n",
       "      <td>20161125</td>\n",
       "      <td>17800</td>\n",
       "      <td>70.09</td>\n",
       "      <td>86.00</td>\n",
       "      <td>NaN</td>\n",
       "      <td>1981.0</td>\n",
       "      <td>단독다가구</td>\n",
       "      <td>NaN</td>\n",
       "      <td>NaN</td>\n",
       "    </tr>\n",
       "    <tr>\n",
       "      <th>62739</th>\n",
       "      <td>2023</td>\n",
       "      <td>노원구</td>\n",
       "      <td>중계동</td>\n",
       "      <td>대지</td>\n",
       "      <td>511.0</td>\n",
       "      <td>2.0</td>\n",
       "      <td>목화(4단지)</td>\n",
       "      <td>20090219</td>\n",
       "      <td>8000</td>\n",
       "      <td>32.76</td>\n",
       "      <td>0.00</td>\n",
       "      <td>2.0</td>\n",
       "      <td>1991.0</td>\n",
       "      <td>아파트</td>\n",
       "      <td>NaN</td>\n",
       "      <td>NaN</td>\n",
       "    </tr>\n",
       "  </tbody>\n",
       "</table>\n",
       "<p>62740 rows × 16 columns</p>\n",
       "</div>"
      ],
      "text/plain": [
       "       접수연도  자치구명 법정동명 지번구분명      본번    부번              건물명       계약일  \\\n",
       "0      2023   강서구  마곡동    대지   776.0   2.0  마곡센트럴대방디엠시티오피스텔  20231121   \n",
       "1      2023  동대문구  이문동    대지   327.0   7.0             세진빌딩  20231121   \n",
       "2      2023   구로구  구로동    대지    98.0  10.0          비즈트위트그린  20231121   \n",
       "3      2023   송파구  오금동    대지    39.0   5.0           에일린하우스  20231121   \n",
       "4      2023   마포구  상암동    대지  1597.0   0.0         사보이시티디엠씨  20231121   \n",
       "...     ...   ...  ...   ...     ...   ...              ...       ...   \n",
       "62735  2023   강서구  공항동    대지    61.0  89.0            남성아트빌  20210125   \n",
       "62736  2023   은평구  신사동    대지   370.0   0.0         은평신사두산위브  20200608   \n",
       "62737  2023   마포구  성산동    대지   593.0   5.0         상암미르웰한올림  20181030   \n",
       "62738  2023   양천구  신월동   NaN     NaN   NaN              NaN  20161125   \n",
       "62739  2023   노원구  중계동    대지   511.0   2.0          목화(4단지)  20090219   \n",
       "\n",
       "       물건금액(만원)  건물면적(㎡)  토지면적(㎡)     층    건축년도   건물용도  신고구분 신고한 개업공인중개사 시군구명  \n",
       "0         21500    29.48    42.34   3.0  2017.0   오피스텔   직거래              NaN  \n",
       "1         19000    11.48     0.00  12.0  2020.0    아파트  중개거래          서울 동대문구  \n",
       "2         11250    14.86     0.00  16.0  2012.0    아파트  중개거래           서울 동작구  \n",
       "3         58000    54.67    28.47   6.0  2016.0  연립다세대   직거래              NaN  \n",
       "4         15500    21.65    29.78  14.0  2016.0   오피스텔  중개거래           서울 은평구  \n",
       "...         ...      ...      ...   ...     ...    ...   ...              ...  \n",
       "62735     36800    29.47    19.00   6.0  2015.0  연립다세대   NaN              NaN  \n",
       "62736     73500    84.96     0.00   9.0  2006.0    아파트   NaN              NaN  \n",
       "62737     15500    16.36    22.99  13.0  2018.0   오피스텔   NaN              NaN  \n",
       "62738     17800    70.09    86.00   NaN  1981.0  단독다가구   NaN              NaN  \n",
       "62739      8000    32.76     0.00   2.0  1991.0    아파트   NaN              NaN  \n",
       "\n",
       "[62740 rows x 16 columns]"
      ]
     },
     "execution_count": 4,
     "metadata": {},
     "output_type": "execute_result"
    }
   ],
   "source": [
    "df"
   ]
  },
  {
   "cell_type": "code",
   "execution_count": null,
   "id": "d68857a3",
   "metadata": {},
   "outputs": [],
   "source": []
  },
  {
   "cell_type": "code",
   "execution_count": 5,
   "id": "ac428b82",
   "metadata": {},
   "outputs": [
    {
     "data": {
      "text/plain": [
       "0        20231121\n",
       "1        20231121\n",
       "2        20231121\n",
       "3        20231121\n",
       "4        20231121\n",
       "           ...   \n",
       "62735    20210125\n",
       "62736    20200608\n",
       "62737    20181030\n",
       "62738    20161125\n",
       "62739    20090219\n",
       "Name: 계약일, Length: 62740, dtype: object"
      ]
     },
     "execution_count": 5,
     "metadata": {},
     "output_type": "execute_result"
    }
   ],
   "source": [
    "df['계약일'].astype(str)"
   ]
  },
  {
   "cell_type": "code",
   "execution_count": 6,
   "id": "4f30bf69",
   "metadata": {},
   "outputs": [
    {
     "ename": "KeyError",
     "evalue": "'게약일'",
     "output_type": "error",
     "traceback": [
      "\u001b[1;31m---------------------------------------------------------------------------\u001b[0m",
      "\u001b[1;31mKeyError\u001b[0m                                  Traceback (most recent call last)",
      "File \u001b[1;32m~\\anaconda3\\envs\\streamlit39\\lib\\site-packages\\pandas\\core\\indexes\\base.py:3790\u001b[0m, in \u001b[0;36mIndex.get_loc\u001b[1;34m(self, key)\u001b[0m\n\u001b[0;32m   3789\u001b[0m \u001b[38;5;28;01mtry\u001b[39;00m:\n\u001b[1;32m-> 3790\u001b[0m     \u001b[38;5;28;01mreturn\u001b[39;00m \u001b[38;5;28;43mself\u001b[39;49m\u001b[38;5;241;43m.\u001b[39;49m\u001b[43m_engine\u001b[49m\u001b[38;5;241;43m.\u001b[39;49m\u001b[43mget_loc\u001b[49m\u001b[43m(\u001b[49m\u001b[43mcasted_key\u001b[49m\u001b[43m)\u001b[49m\n\u001b[0;32m   3791\u001b[0m \u001b[38;5;28;01mexcept\u001b[39;00m \u001b[38;5;167;01mKeyError\u001b[39;00m \u001b[38;5;28;01mas\u001b[39;00m err:\n",
      "File \u001b[1;32mindex.pyx:152\u001b[0m, in \u001b[0;36mpandas._libs.index.IndexEngine.get_loc\u001b[1;34m()\u001b[0m\n",
      "File \u001b[1;32mindex.pyx:181\u001b[0m, in \u001b[0;36mpandas._libs.index.IndexEngine.get_loc\u001b[1;34m()\u001b[0m\n",
      "File \u001b[1;32mpandas\\_libs\\hashtable_class_helper.pxi:7080\u001b[0m, in \u001b[0;36mpandas._libs.hashtable.PyObjectHashTable.get_item\u001b[1;34m()\u001b[0m\n",
      "File \u001b[1;32mpandas\\_libs\\hashtable_class_helper.pxi:7088\u001b[0m, in \u001b[0;36mpandas._libs.hashtable.PyObjectHashTable.get_item\u001b[1;34m()\u001b[0m\n",
      "\u001b[1;31mKeyError\u001b[0m: '게약일'",
      "\nThe above exception was the direct cause of the following exception:\n",
      "\u001b[1;31mKeyError\u001b[0m                                  Traceback (most recent call last)",
      "Cell \u001b[1;32mIn[6], line 1\u001b[0m\n\u001b[1;32m----> 1\u001b[0m \u001b[43mdf\u001b[49m\u001b[43m[\u001b[49m\u001b[38;5;124;43m'\u001b[39;49m\u001b[38;5;124;43m게약일\u001b[39;49m\u001b[38;5;124;43m'\u001b[39;49m\u001b[43m]\u001b[49m\u001b[38;5;241m.\u001b[39mastype(\u001b[38;5;28mint\u001b[39m)\n",
      "File \u001b[1;32m~\\anaconda3\\envs\\streamlit39\\lib\\site-packages\\pandas\\core\\frame.py:3896\u001b[0m, in \u001b[0;36mDataFrame.__getitem__\u001b[1;34m(self, key)\u001b[0m\n\u001b[0;32m   3894\u001b[0m \u001b[38;5;28;01mif\u001b[39;00m \u001b[38;5;28mself\u001b[39m\u001b[38;5;241m.\u001b[39mcolumns\u001b[38;5;241m.\u001b[39mnlevels \u001b[38;5;241m>\u001b[39m \u001b[38;5;241m1\u001b[39m:\n\u001b[0;32m   3895\u001b[0m     \u001b[38;5;28;01mreturn\u001b[39;00m \u001b[38;5;28mself\u001b[39m\u001b[38;5;241m.\u001b[39m_getitem_multilevel(key)\n\u001b[1;32m-> 3896\u001b[0m indexer \u001b[38;5;241m=\u001b[39m \u001b[38;5;28;43mself\u001b[39;49m\u001b[38;5;241;43m.\u001b[39;49m\u001b[43mcolumns\u001b[49m\u001b[38;5;241;43m.\u001b[39;49m\u001b[43mget_loc\u001b[49m\u001b[43m(\u001b[49m\u001b[43mkey\u001b[49m\u001b[43m)\u001b[49m\n\u001b[0;32m   3897\u001b[0m \u001b[38;5;28;01mif\u001b[39;00m is_integer(indexer):\n\u001b[0;32m   3898\u001b[0m     indexer \u001b[38;5;241m=\u001b[39m [indexer]\n",
      "File \u001b[1;32m~\\anaconda3\\envs\\streamlit39\\lib\\site-packages\\pandas\\core\\indexes\\base.py:3797\u001b[0m, in \u001b[0;36mIndex.get_loc\u001b[1;34m(self, key)\u001b[0m\n\u001b[0;32m   3792\u001b[0m     \u001b[38;5;28;01mif\u001b[39;00m \u001b[38;5;28misinstance\u001b[39m(casted_key, \u001b[38;5;28mslice\u001b[39m) \u001b[38;5;129;01mor\u001b[39;00m (\n\u001b[0;32m   3793\u001b[0m         \u001b[38;5;28misinstance\u001b[39m(casted_key, abc\u001b[38;5;241m.\u001b[39mIterable)\n\u001b[0;32m   3794\u001b[0m         \u001b[38;5;129;01mand\u001b[39;00m \u001b[38;5;28many\u001b[39m(\u001b[38;5;28misinstance\u001b[39m(x, \u001b[38;5;28mslice\u001b[39m) \u001b[38;5;28;01mfor\u001b[39;00m x \u001b[38;5;129;01min\u001b[39;00m casted_key)\n\u001b[0;32m   3795\u001b[0m     ):\n\u001b[0;32m   3796\u001b[0m         \u001b[38;5;28;01mraise\u001b[39;00m InvalidIndexError(key)\n\u001b[1;32m-> 3797\u001b[0m     \u001b[38;5;28;01mraise\u001b[39;00m \u001b[38;5;167;01mKeyError\u001b[39;00m(key) \u001b[38;5;28;01mfrom\u001b[39;00m \u001b[38;5;21;01merr\u001b[39;00m\n\u001b[0;32m   3798\u001b[0m \u001b[38;5;28;01mexcept\u001b[39;00m \u001b[38;5;167;01mTypeError\u001b[39;00m:\n\u001b[0;32m   3799\u001b[0m     \u001b[38;5;66;03m# If we have a listlike key, _check_indexing_error will raise\u001b[39;00m\n\u001b[0;32m   3800\u001b[0m     \u001b[38;5;66;03m#  InvalidIndexError. Otherwise we fall through and re-raise\u001b[39;00m\n\u001b[0;32m   3801\u001b[0m     \u001b[38;5;66;03m#  the TypeError.\u001b[39;00m\n\u001b[0;32m   3802\u001b[0m     \u001b[38;5;28mself\u001b[39m\u001b[38;5;241m.\u001b[39m_check_indexing_error(key)\n",
      "\u001b[1;31mKeyError\u001b[0m: '게약일'"
     ]
    }
   ],
   "source": [
    "df['게약일'].astype(int)"
   ]
  },
  {
   "cell_type": "code",
   "execution_count": null,
   "id": "7e9888fb",
   "metadata": {},
   "outputs": [],
   "source": [
    "df['접수연도']"
   ]
  },
  {
   "cell_type": "code",
   "execution_count": null,
   "id": "c3da4c94",
   "metadata": {},
   "outputs": [],
   "source": [
    "df['본번'].astype(str)"
   ]
  },
  {
   "cell_type": "code",
   "execution_count": null,
   "id": "80b77316",
   "metadata": {},
   "outputs": [],
   "source": [
    "df['본번'].fillna(-1)"
   ]
  },
  {
   "cell_type": "code",
   "execution_count": null,
   "id": "aa7d4603",
   "metadata": {},
   "outputs": [],
   "source": [
    "df['건축년도']"
   ]
  },
  {
   "cell_type": "code",
   "execution_count": null,
   "id": "3cac1a33",
   "metadata": {},
   "outputs": [],
   "source": [
    "df['건물용도'].unique()"
   ]
  },
  {
   "cell_type": "code",
   "execution_count": null,
   "id": "d023f5a8",
   "metadata": {},
   "outputs": [],
   "source": [
    "pd.to_datetime(df['계약일'])"
   ]
  },
  {
   "cell_type": "code",
   "execution_count": null,
   "id": "3ef4135a",
   "metadata": {},
   "outputs": [],
   "source": [
    "pd.to_datetime(df['계약일'].astype(str))"
   ]
  },
  {
   "cell_type": "code",
   "execution_count": null,
   "id": "dbcba0e0",
   "metadata": {},
   "outputs": [],
   "source": [
    "pd.to_datetime(df['계약일'] , format='%Y%m%d')"
   ]
  },
  {
   "cell_type": "code",
   "execution_count": null,
   "id": "fb579901",
   "metadata": {},
   "outputs": [],
   "source": [
    "df"
   ]
  },
  {
   "cell_type": "code",
   "execution_count": null,
   "id": "5e74b34f",
   "metadata": {},
   "outputs": [],
   "source": [
    "df.loc[ df['건물용도'] =='오피스텔' , ].set_index('건물용도')"
   ]
  },
  {
   "cell_type": "code",
   "execution_count": null,
   "id": "f605ad4a",
   "metadata": {},
   "outputs": [],
   "source": [
    "df.loc[ df['건물용도'] =='아파트' , ].set_index('건물용도')"
   ]
  },
  {
   "cell_type": "code",
   "execution_count": null,
   "id": "dc5e61d5",
   "metadata": {},
   "outputs": [],
   "source": [
    "df.loc[ df['건물용도'] =='연립다세대' , ].reset_index()"
   ]
  },
  {
   "cell_type": "code",
   "execution_count": null,
   "id": "37d910b9",
   "metadata": {},
   "outputs": [],
   "source": [
    "df.loc[ df['건물용도'] =='단독다가구' , ].reset_index()"
   ]
  },
  {
   "cell_type": "code",
   "execution_count": null,
   "id": "4a857d47",
   "metadata": {},
   "outputs": [],
   "source": [
    "df['건물용도']"
   ]
  },
  {
   "cell_type": "code",
   "execution_count": null,
   "id": "884f62a3",
   "metadata": {},
   "outputs": [],
   "source": [
    "df['자치구명']"
   ]
  },
  {
   "cell_type": "code",
   "execution_count": null,
   "id": "1bf0f16c",
   "metadata": {},
   "outputs": [],
   "source": [
    "df_op = df.loc[ df['건물용도'] =='오피스텔' ,]"
   ]
  },
  {
   "cell_type": "code",
   "execution_count": null,
   "id": "1df75305",
   "metadata": {
    "scrolled": true
   },
   "outputs": [],
   "source": [
    "df_op"
   ]
  },
  {
   "cell_type": "code",
   "execution_count": null,
   "id": "c2703066",
   "metadata": {},
   "outputs": [],
   "source": [
    "df_op['자치구명'].value_counts().index"
   ]
  },
  {
   "cell_type": "code",
   "execution_count": null,
   "id": "eb7266c6",
   "metadata": {},
   "outputs": [],
   "source": [
    "df_op['자치구명']"
   ]
  },
  {
   "cell_type": "code",
   "execution_count": null,
   "id": "73cbb7e7",
   "metadata": {},
   "outputs": [],
   "source": [
    "ordef_op = df['자치구명'].value_counts().index"
   ]
  },
  {
   "cell_type": "code",
   "execution_count": null,
   "id": "4e251c32",
   "metadata": {},
   "outputs": [],
   "source": [
    "color_op = sb.color_palette()[2]"
   ]
  },
  {
   "cell_type": "code",
   "execution_count": null,
   "id": "98a086c9",
   "metadata": {},
   "outputs": [],
   "source": [
    "ordef_color = "
   ]
  },
  {
   "cell_type": "code",
   "execution_count": null,
   "id": "ec4113c4",
   "metadata": {},
   "outputs": [],
   "source": [
    "sb.countplot(data = df , y = df['자치구명'] , color= color_op , order= ordef_op )\n",
    "plt.title('자치구별 거래 건 수')\n",
    "plt.xlabel('거래 건 수( 단위 : 회 )')\n",
    "plt.show()"
   ]
  },
  {
   "cell_type": "code",
   "execution_count": null,
   "id": "fdb72fd1",
   "metadata": {},
   "outputs": [],
   "source": [
    "df_op = df.loc[ df['건물용도'] =='오피스텔' ,].set_index('건물용도')"
   ]
  },
  {
   "cell_type": "code",
   "execution_count": null,
   "id": "cb34083e",
   "metadata": {},
   "outputs": [],
   "source": [
    "df_op"
   ]
  },
  {
   "cell_type": "code",
   "execution_count": null,
   "id": "e9fb821b",
   "metadata": {},
   "outputs": [],
   "source": [
    "op_order = df_op['자치구명'].value_counts().index"
   ]
  },
  {
   "cell_type": "code",
   "execution_count": null,
   "id": "92727546",
   "metadata": {},
   "outputs": [],
   "source": [
    "op_color = sb.color_palette()[2]"
   ]
  },
  {
   "cell_type": "code",
   "execution_count": null,
   "id": "9e2171f6",
   "metadata": {},
   "outputs": [],
   "source": [
    "df_op = df.loc[ df['건물용도'] =='오피스텔' ,].set_index('건물용도')\n",
    "op_order = df_op['자치구명'].value_counts().index\n",
    "op_color = sb.color_palette()[2]\n",
    "sb.countplot( data = df_op , y = df_op['자치구명'] , color=op_color ,order=op_order )\n"
   ]
  },
  {
   "cell_type": "code",
   "execution_count": null,
   "id": "4246bd0f",
   "metadata": {},
   "outputs": [],
   "source": [
    "df_op_pie = df_op['자치구명'].value_counts().head()"
   ]
  },
  {
   "cell_type": "code",
   "execution_count": null,
   "id": "67b17439",
   "metadata": {},
   "outputs": [],
   "source": [
    "df_op_pie = df_op['자치구명'].value_counts().head()\n",
    "plt.pie(df_op_pie ,labels= df_op_pie.index, autopct='%.2f' , wedgeprops={'width' : 0.8} )\n",
    "\n"
   ]
  },
  {
   "cell_type": "code",
   "execution_count": null,
   "id": "4ad8fab7",
   "metadata": {},
   "outputs": [],
   "source": [
    "df_op.groupby('자치구명')['물건금액(만원)'].max()"
   ]
  },
  {
   "cell_type": "code",
   "execution_count": null,
   "id": "370c4070",
   "metadata": {},
   "outputs": [],
   "source": [
    "df_op"
   ]
  },
  {
   "cell_type": "code",
   "execution_count": null,
   "id": "ac0f6242",
   "metadata": {},
   "outputs": [],
   "source": [
    "plt.hist(data =df_op_2023 , x ='계약일' , rwidth= 0.8 , bins=10 )"
   ]
  },
  {
   "cell_type": "code",
   "execution_count": null,
   "id": "c339d8e4",
   "metadata": {},
   "outputs": [],
   "source": [
    "df_total = df.groupby('건물용도')['물건금액(만원)'].max()"
   ]
  },
  {
   "cell_type": "code",
   "execution_count": null,
   "id": "5a4735fa",
   "metadata": {},
   "outputs": [],
   "source": [
    "df_total = df.groupby('건물용도')['물건금액(만원)'].max()\n",
    "plt.pie(df_total, labels=df_total.index, autopct='%.2f' , startangle= 90 ,wedgeprops={'width' : 0.7} )\n"
   ]
  },
  {
   "cell_type": "code",
   "execution_count": null,
   "id": "941239c1",
   "metadata": {},
   "outputs": [],
   "source": [
    "df"
   ]
  },
  {
   "cell_type": "code",
   "execution_count": null,
   "id": "145f7fec",
   "metadata": {},
   "outputs": [],
   "source": [
    "df2 = df['자치구명'].value_counts().head()"
   ]
  },
  {
   "cell_type": "code",
   "execution_count": null,
   "id": "7a7f67a9",
   "metadata": {},
   "outputs": [],
   "source": [
    "plt.pie(df2 , labels=df2.index, autopct='%.2f',wedgeprops={'width':0.7})"
   ]
  },
  {
   "cell_type": "code",
   "execution_count": null,
   "id": "eacb904c",
   "metadata": {
    "scrolled": true
   },
   "outputs": [],
   "source": [
    "df['계약일'].value_counts().sort_index()"
   ]
  },
  {
   "cell_type": "code",
   "execution_count": null,
   "id": "240300f2",
   "metadata": {},
   "outputs": [],
   "source": [
    "df_newdate = df.loc[ df['계약일']>=20221100 , ]"
   ]
  },
  {
   "cell_type": "code",
   "execution_count": null,
   "id": "00abbb84",
   "metadata": {},
   "outputs": [],
   "source": [
    "df_newdate['계약일'].value_counts().sort_index()"
   ]
  },
  {
   "cell_type": "code",
   "execution_count": 16,
   "id": "20ddd25d",
   "metadata": {},
   "outputs": [],
   "source": [
    "import numpy as np"
   ]
  },
  {
   "cell_type": "code",
   "execution_count": 66,
   "id": "35649642",
   "metadata": {},
   "outputs": [
    {
     "data": {
      "text/plain": [
       "건물용도\n",
       "단독다가구    2420000\n",
       "아파트      1800000\n",
       "연립다세대    1500000\n",
       "오피스텔      950000\n",
       "Name: 물건금액(만원), dtype: int64"
      ]
     },
     "execution_count": 66,
     "metadata": {},
     "output_type": "execute_result"
    }
   ],
   "source": [
    "df.groupby([ '건물용도'])['물건금액(만원)'].max()"
   ]
  },
  {
   "cell_type": "code",
   "execution_count": 52,
   "id": "8313c8b6",
   "metadata": {},
   "outputs": [
    {
     "data": {
      "text/html": [
       "<div>\n",
       "<style scoped>\n",
       "    .dataframe tbody tr th:only-of-type {\n",
       "        vertical-align: middle;\n",
       "    }\n",
       "\n",
       "    .dataframe tbody tr th {\n",
       "        vertical-align: top;\n",
       "    }\n",
       "\n",
       "    .dataframe thead th {\n",
       "        text-align: right;\n",
       "    }\n",
       "</style>\n",
       "<table border=\"1\" class=\"dataframe\">\n",
       "  <thead>\n",
       "    <tr style=\"text-align: right;\">\n",
       "      <th></th>\n",
       "      <th>접수연도</th>\n",
       "      <th>자치구명</th>\n",
       "      <th>법정동명</th>\n",
       "      <th>지번구분명</th>\n",
       "      <th>본번</th>\n",
       "      <th>부번</th>\n",
       "      <th>건물명</th>\n",
       "      <th>계약일</th>\n",
       "      <th>물건금액(만원)</th>\n",
       "      <th>건물면적(㎡)</th>\n",
       "      <th>토지면적(㎡)</th>\n",
       "      <th>층</th>\n",
       "      <th>건축년도</th>\n",
       "      <th>건물용도</th>\n",
       "      <th>신고구분</th>\n",
       "      <th>신고한 개업공인중개사 시군구명</th>\n",
       "    </tr>\n",
       "  </thead>\n",
       "  <tbody>\n",
       "    <tr>\n",
       "      <th>0</th>\n",
       "      <td>2023</td>\n",
       "      <td>강서구</td>\n",
       "      <td>마곡동</td>\n",
       "      <td>대지</td>\n",
       "      <td>776.0</td>\n",
       "      <td>2.0</td>\n",
       "      <td>마곡센트럴대방디엠시티오피스텔</td>\n",
       "      <td>20231121</td>\n",
       "      <td>21500</td>\n",
       "      <td>29.48</td>\n",
       "      <td>42.34</td>\n",
       "      <td>3.0</td>\n",
       "      <td>2017.0</td>\n",
       "      <td>오피스텔</td>\n",
       "      <td>직거래</td>\n",
       "      <td>NaN</td>\n",
       "    </tr>\n",
       "    <tr>\n",
       "      <th>1</th>\n",
       "      <td>2023</td>\n",
       "      <td>동대문구</td>\n",
       "      <td>이문동</td>\n",
       "      <td>대지</td>\n",
       "      <td>327.0</td>\n",
       "      <td>7.0</td>\n",
       "      <td>세진빌딩</td>\n",
       "      <td>20231121</td>\n",
       "      <td>19000</td>\n",
       "      <td>11.48</td>\n",
       "      <td>0.00</td>\n",
       "      <td>12.0</td>\n",
       "      <td>2020.0</td>\n",
       "      <td>아파트</td>\n",
       "      <td>중개거래</td>\n",
       "      <td>서울 동대문구</td>\n",
       "    </tr>\n",
       "    <tr>\n",
       "      <th>2</th>\n",
       "      <td>2023</td>\n",
       "      <td>구로구</td>\n",
       "      <td>구로동</td>\n",
       "      <td>대지</td>\n",
       "      <td>98.0</td>\n",
       "      <td>10.0</td>\n",
       "      <td>비즈트위트그린</td>\n",
       "      <td>20231121</td>\n",
       "      <td>11250</td>\n",
       "      <td>14.86</td>\n",
       "      <td>0.00</td>\n",
       "      <td>16.0</td>\n",
       "      <td>2012.0</td>\n",
       "      <td>아파트</td>\n",
       "      <td>중개거래</td>\n",
       "      <td>서울 동작구</td>\n",
       "    </tr>\n",
       "    <tr>\n",
       "      <th>3</th>\n",
       "      <td>2023</td>\n",
       "      <td>송파구</td>\n",
       "      <td>오금동</td>\n",
       "      <td>대지</td>\n",
       "      <td>39.0</td>\n",
       "      <td>5.0</td>\n",
       "      <td>에일린하우스</td>\n",
       "      <td>20231121</td>\n",
       "      <td>58000</td>\n",
       "      <td>54.67</td>\n",
       "      <td>28.47</td>\n",
       "      <td>6.0</td>\n",
       "      <td>2016.0</td>\n",
       "      <td>연립다세대</td>\n",
       "      <td>직거래</td>\n",
       "      <td>NaN</td>\n",
       "    </tr>\n",
       "    <tr>\n",
       "      <th>4</th>\n",
       "      <td>2023</td>\n",
       "      <td>마포구</td>\n",
       "      <td>상암동</td>\n",
       "      <td>대지</td>\n",
       "      <td>1597.0</td>\n",
       "      <td>0.0</td>\n",
       "      <td>사보이시티디엠씨</td>\n",
       "      <td>20231121</td>\n",
       "      <td>15500</td>\n",
       "      <td>21.65</td>\n",
       "      <td>29.78</td>\n",
       "      <td>14.0</td>\n",
       "      <td>2016.0</td>\n",
       "      <td>오피스텔</td>\n",
       "      <td>중개거래</td>\n",
       "      <td>서울 은평구</td>\n",
       "    </tr>\n",
       "    <tr>\n",
       "      <th>...</th>\n",
       "      <td>...</td>\n",
       "      <td>...</td>\n",
       "      <td>...</td>\n",
       "      <td>...</td>\n",
       "      <td>...</td>\n",
       "      <td>...</td>\n",
       "      <td>...</td>\n",
       "      <td>...</td>\n",
       "      <td>...</td>\n",
       "      <td>...</td>\n",
       "      <td>...</td>\n",
       "      <td>...</td>\n",
       "      <td>...</td>\n",
       "      <td>...</td>\n",
       "      <td>...</td>\n",
       "      <td>...</td>\n",
       "    </tr>\n",
       "    <tr>\n",
       "      <th>62735</th>\n",
       "      <td>2023</td>\n",
       "      <td>강서구</td>\n",
       "      <td>공항동</td>\n",
       "      <td>대지</td>\n",
       "      <td>61.0</td>\n",
       "      <td>89.0</td>\n",
       "      <td>남성아트빌</td>\n",
       "      <td>20210125</td>\n",
       "      <td>36800</td>\n",
       "      <td>29.47</td>\n",
       "      <td>19.00</td>\n",
       "      <td>6.0</td>\n",
       "      <td>2015.0</td>\n",
       "      <td>연립다세대</td>\n",
       "      <td>NaN</td>\n",
       "      <td>NaN</td>\n",
       "    </tr>\n",
       "    <tr>\n",
       "      <th>62736</th>\n",
       "      <td>2023</td>\n",
       "      <td>은평구</td>\n",
       "      <td>신사동</td>\n",
       "      <td>대지</td>\n",
       "      <td>370.0</td>\n",
       "      <td>0.0</td>\n",
       "      <td>은평신사두산위브</td>\n",
       "      <td>20200608</td>\n",
       "      <td>73500</td>\n",
       "      <td>84.96</td>\n",
       "      <td>0.00</td>\n",
       "      <td>9.0</td>\n",
       "      <td>2006.0</td>\n",
       "      <td>아파트</td>\n",
       "      <td>NaN</td>\n",
       "      <td>NaN</td>\n",
       "    </tr>\n",
       "    <tr>\n",
       "      <th>62737</th>\n",
       "      <td>2023</td>\n",
       "      <td>마포구</td>\n",
       "      <td>성산동</td>\n",
       "      <td>대지</td>\n",
       "      <td>593.0</td>\n",
       "      <td>5.0</td>\n",
       "      <td>상암미르웰한올림</td>\n",
       "      <td>20181030</td>\n",
       "      <td>15500</td>\n",
       "      <td>16.36</td>\n",
       "      <td>22.99</td>\n",
       "      <td>13.0</td>\n",
       "      <td>2018.0</td>\n",
       "      <td>오피스텔</td>\n",
       "      <td>NaN</td>\n",
       "      <td>NaN</td>\n",
       "    </tr>\n",
       "    <tr>\n",
       "      <th>62738</th>\n",
       "      <td>2023</td>\n",
       "      <td>양천구</td>\n",
       "      <td>신월동</td>\n",
       "      <td>NaN</td>\n",
       "      <td>NaN</td>\n",
       "      <td>NaN</td>\n",
       "      <td>NaN</td>\n",
       "      <td>20161125</td>\n",
       "      <td>17800</td>\n",
       "      <td>70.09</td>\n",
       "      <td>86.00</td>\n",
       "      <td>NaN</td>\n",
       "      <td>1981.0</td>\n",
       "      <td>단독다가구</td>\n",
       "      <td>NaN</td>\n",
       "      <td>NaN</td>\n",
       "    </tr>\n",
       "    <tr>\n",
       "      <th>62739</th>\n",
       "      <td>2023</td>\n",
       "      <td>노원구</td>\n",
       "      <td>중계동</td>\n",
       "      <td>대지</td>\n",
       "      <td>511.0</td>\n",
       "      <td>2.0</td>\n",
       "      <td>목화(4단지)</td>\n",
       "      <td>20090219</td>\n",
       "      <td>8000</td>\n",
       "      <td>32.76</td>\n",
       "      <td>0.00</td>\n",
       "      <td>2.0</td>\n",
       "      <td>1991.0</td>\n",
       "      <td>아파트</td>\n",
       "      <td>NaN</td>\n",
       "      <td>NaN</td>\n",
       "    </tr>\n",
       "  </tbody>\n",
       "</table>\n",
       "<p>62740 rows × 16 columns</p>\n",
       "</div>"
      ],
      "text/plain": [
       "       접수연도  자치구명 법정동명 지번구분명      본번    부번              건물명       계약일  \\\n",
       "0      2023   강서구  마곡동    대지   776.0   2.0  마곡센트럴대방디엠시티오피스텔  20231121   \n",
       "1      2023  동대문구  이문동    대지   327.0   7.0             세진빌딩  20231121   \n",
       "2      2023   구로구  구로동    대지    98.0  10.0          비즈트위트그린  20231121   \n",
       "3      2023   송파구  오금동    대지    39.0   5.0           에일린하우스  20231121   \n",
       "4      2023   마포구  상암동    대지  1597.0   0.0         사보이시티디엠씨  20231121   \n",
       "...     ...   ...  ...   ...     ...   ...              ...       ...   \n",
       "62735  2023   강서구  공항동    대지    61.0  89.0            남성아트빌  20210125   \n",
       "62736  2023   은평구  신사동    대지   370.0   0.0         은평신사두산위브  20200608   \n",
       "62737  2023   마포구  성산동    대지   593.0   5.0         상암미르웰한올림  20181030   \n",
       "62738  2023   양천구  신월동   NaN     NaN   NaN              NaN  20161125   \n",
       "62739  2023   노원구  중계동    대지   511.0   2.0          목화(4단지)  20090219   \n",
       "\n",
       "       물건금액(만원)  건물면적(㎡)  토지면적(㎡)     층    건축년도   건물용도  신고구분 신고한 개업공인중개사 시군구명  \n",
       "0         21500    29.48    42.34   3.0  2017.0   오피스텔   직거래              NaN  \n",
       "1         19000    11.48     0.00  12.0  2020.0    아파트  중개거래          서울 동대문구  \n",
       "2         11250    14.86     0.00  16.0  2012.0    아파트  중개거래           서울 동작구  \n",
       "3         58000    54.67    28.47   6.0  2016.0  연립다세대   직거래              NaN  \n",
       "4         15500    21.65    29.78  14.0  2016.0   오피스텔  중개거래           서울 은평구  \n",
       "...         ...      ...      ...   ...     ...    ...   ...              ...  \n",
       "62735     36800    29.47    19.00   6.0  2015.0  연립다세대   NaN              NaN  \n",
       "62736     73500    84.96     0.00   9.0  2006.0    아파트   NaN              NaN  \n",
       "62737     15500    16.36    22.99  13.0  2018.0   오피스텔   NaN              NaN  \n",
       "62738     17800    70.09    86.00   NaN  1981.0  단독다가구   NaN              NaN  \n",
       "62739      8000    32.76     0.00   2.0  1991.0    아파트   NaN              NaN  \n",
       "\n",
       "[62740 rows x 16 columns]"
      ]
     },
     "execution_count": 52,
     "metadata": {},
     "output_type": "execute_result"
    }
   ],
   "source": [
    "df"
   ]
  },
  {
   "cell_type": "code",
   "execution_count": 67,
   "id": "4a8201b6",
   "metadata": {},
   "outputs": [],
   "source": [
    "df_count = df['건물용도'].value_counts().to_frame()\n",
    "df_count = df_count.rename(columns={ 'count' : '건 수'})"
   ]
  },
  {
   "cell_type": "code",
   "execution_count": 69,
   "id": "61b97505",
   "metadata": {},
   "outputs": [
    {
     "name": "stderr",
     "output_type": "stream",
     "text": [
      "C:\\Users\\4005\\AppData\\Local\\Temp\\ipykernel_5008\\2469816654.py:1: FutureWarning: The provided callable <function max at 0x00000222970285E0> is currently using SeriesGroupBy.max. In a future version of pandas, the provided callable will be used directly. To keep current behavior pass the string \"max\" instead.\n",
      "  df_max_price = df.groupby('건물용도')['물건금액(만원)'].agg([np.max , np.min])\n",
      "C:\\Users\\4005\\AppData\\Local\\Temp\\ipykernel_5008\\2469816654.py:1: FutureWarning: The provided callable <function min at 0x0000022297028700> is currently using SeriesGroupBy.min. In a future version of pandas, the provided callable will be used directly. To keep current behavior pass the string \"min\" instead.\n",
      "  df_max_price = df.groupby('건물용도')['물건금액(만원)'].agg([np.max , np.min])\n"
     ]
    }
   ],
   "source": [
    "df_max_price = df.groupby('건물용도')['물건금액(만원)'].agg([np.max , np.min])\n",
    "df_max_price = df_max_price.rename(columns={'max' : '최고가(만원)' , 'min' : '최저가(만원)'})"
   ]
  },
  {
   "cell_type": "code",
   "execution_count": 75,
   "id": "798cbbd4",
   "metadata": {},
   "outputs": [
    {
     "data": {
      "text/html": [
       "<div>\n",
       "<style scoped>\n",
       "    .dataframe tbody tr th:only-of-type {\n",
       "        vertical-align: middle;\n",
       "    }\n",
       "\n",
       "    .dataframe tbody tr th {\n",
       "        vertical-align: top;\n",
       "    }\n",
       "\n",
       "    .dataframe thead th {\n",
       "        text-align: right;\n",
       "    }\n",
       "</style>\n",
       "<table border=\"1\" class=\"dataframe\">\n",
       "  <thead>\n",
       "    <tr style=\"text-align: right;\">\n",
       "      <th></th>\n",
       "      <th>건 수</th>\n",
       "      <th>최고가(만원)</th>\n",
       "      <th>최저가(만원)</th>\n",
       "    </tr>\n",
       "    <tr>\n",
       "      <th>건물용도</th>\n",
       "      <th></th>\n",
       "      <th></th>\n",
       "      <th></th>\n",
       "    </tr>\n",
       "  </thead>\n",
       "  <tbody>\n",
       "    <tr>\n",
       "      <th>아파트</th>\n",
       "      <td>32926</td>\n",
       "      <td>1800000</td>\n",
       "      <td>7400</td>\n",
       "    </tr>\n",
       "    <tr>\n",
       "      <th>연립다세대</th>\n",
       "      <td>19925</td>\n",
       "      <td>1500000</td>\n",
       "      <td>3400</td>\n",
       "    </tr>\n",
       "    <tr>\n",
       "      <th>오피스텔</th>\n",
       "      <td>7492</td>\n",
       "      <td>950000</td>\n",
       "      <td>4333</td>\n",
       "    </tr>\n",
       "    <tr>\n",
       "      <th>단독다가구</th>\n",
       "      <td>2397</td>\n",
       "      <td>2420000</td>\n",
       "      <td>6400</td>\n",
       "    </tr>\n",
       "  </tbody>\n",
       "</table>\n",
       "</div>"
      ],
      "text/plain": [
       "         건 수  최고가(만원)  최저가(만원)\n",
       "건물용도                          \n",
       "아파트    32926  1800000     7400\n",
       "연립다세대  19925  1500000     3400\n",
       "오피스텔    7492   950000     4333\n",
       "단독다가구   2397  2420000     6400"
      ]
     },
     "execution_count": 75,
     "metadata": {},
     "output_type": "execute_result"
    }
   ],
   "source": [
    "pd.concat([df_count,df_max_price],axis = 1)"
   ]
  },
  {
   "cell_type": "code",
   "execution_count": 102,
   "id": "ebf4747c",
   "metadata": {},
   "outputs": [],
   "source": [
    "df_data_set = df.loc[ df['계약일'] >= 20230101 , ].set_index('계약일').sort_index()"
   ]
  },
  {
   "cell_type": "code",
   "execution_count": 106,
   "id": "5ce21811",
   "metadata": {},
   "outputs": [
    {
     "data": {
      "text/plain": [
       "325"
      ]
     },
     "execution_count": 106,
     "metadata": {},
     "output_type": "execute_result"
    }
   ],
   "source": [
    "df_data_set.index.nunique()"
   ]
  },
  {
   "cell_type": "code",
   "execution_count": 142,
   "id": "747af052",
   "metadata": {},
   "outputs": [],
   "source": [
    "df_data_set = df.loc[ df['계약일'] >= 20230101 , ]"
   ]
  },
  {
   "cell_type": "code",
   "execution_count": 143,
   "id": "94d74235",
   "metadata": {},
   "outputs": [
    {
     "data": {
      "text/plain": [
       "0        20231121\n",
       "1        20231121\n",
       "2        20231121\n",
       "3        20231121\n",
       "4        20231121\n",
       "           ...   \n",
       "61568    20230101\n",
       "61569    20230101\n",
       "61570    20230101\n",
       "61571    20230101\n",
       "61572    20230101\n",
       "Name: 계약일, Length: 61573, dtype: int64"
      ]
     },
     "execution_count": 143,
     "metadata": {},
     "output_type": "execute_result"
    }
   ],
   "source": [
    "df_data_set['계약일']"
   ]
  },
  {
   "cell_type": "code",
   "execution_count": 126,
   "id": "05d25576",
   "metadata": {},
   "outputs": [
    {
     "data": {
      "text/plain": [
       "3398"
      ]
     },
     "execution_count": 126,
     "metadata": {},
     "output_type": "execute_result"
    }
   ],
   "source": [
    "((df_data_set['계약일']>=20230101) & (df_data_set['계약일']<=20230201)).sum()"
   ]
  },
  {
   "cell_type": "code",
   "execution_count": 141,
   "id": "015aae94",
   "metadata": {},
   "outputs": [
    {
     "data": {
      "text/plain": [
       "1542"
      ]
     },
     "execution_count": 141,
     "metadata": {},
     "output_type": "execute_result"
    }
   ],
   "source": [
    "((df['계약일']>=20231101) & (df['계약일']<=20231131)).sum()"
   ]
  },
  {
   "cell_type": "code",
   "execution_count": 131,
   "id": "9d195e9c",
   "metadata": {},
   "outputs": [
    {
     "data": {
      "text/plain": [
       "144"
      ]
     },
     "execution_count": 131,
     "metadata": {},
     "output_type": "execute_result"
    }
   ],
   "source": [
    "(df['계약일'] == 20230201).sum()"
   ]
  },
  {
   "cell_type": "code",
   "execution_count": 237,
   "id": "3cafa7ce",
   "metadata": {},
   "outputs": [],
   "source": [
    "df2 = pd.read_csv('./data/dev2.csv')"
   ]
  },
  {
   "cell_type": "code",
   "execution_count": 238,
   "id": "7d84674b",
   "metadata": {},
   "outputs": [
    {
     "data": {
      "text/html": [
       "<div>\n",
       "<style scoped>\n",
       "    .dataframe tbody tr th:only-of-type {\n",
       "        vertical-align: middle;\n",
       "    }\n",
       "\n",
       "    .dataframe tbody tr th {\n",
       "        vertical-align: top;\n",
       "    }\n",
       "\n",
       "    .dataframe thead th {\n",
       "        text-align: right;\n",
       "    }\n",
       "</style>\n",
       "<table border=\"1\" class=\"dataframe\">\n",
       "  <thead>\n",
       "    <tr style=\"text-align: right;\">\n",
       "      <th></th>\n",
       "      <th>거래일자</th>\n",
       "      <th>거래량</th>\n",
       "    </tr>\n",
       "  </thead>\n",
       "  <tbody>\n",
       "    <tr>\n",
       "      <th>0</th>\n",
       "      <td>23-Jan</td>\n",
       "      <td>3254</td>\n",
       "    </tr>\n",
       "    <tr>\n",
       "      <th>1</th>\n",
       "      <td>23-Feb</td>\n",
       "      <td>5376</td>\n",
       "    </tr>\n",
       "    <tr>\n",
       "      <th>2</th>\n",
       "      <td>23-Mar</td>\n",
       "      <td>6059</td>\n",
       "    </tr>\n",
       "    <tr>\n",
       "      <th>3</th>\n",
       "      <td>23-Apr</td>\n",
       "      <td>6076</td>\n",
       "    </tr>\n",
       "    <tr>\n",
       "      <th>4</th>\n",
       "      <td>23-May</td>\n",
       "      <td>6783</td>\n",
       "    </tr>\n",
       "    <tr>\n",
       "      <th>5</th>\n",
       "      <td>23-Jun</td>\n",
       "      <td>7084</td>\n",
       "    </tr>\n",
       "    <tr>\n",
       "      <th>6</th>\n",
       "      <td>23-Jul</td>\n",
       "      <td>6855</td>\n",
       "    </tr>\n",
       "    <tr>\n",
       "      <th>7</th>\n",
       "      <td>23-Aug</td>\n",
       "      <td>7028</td>\n",
       "    </tr>\n",
       "    <tr>\n",
       "      <th>8</th>\n",
       "      <td>23-Sep</td>\n",
       "      <td>6493</td>\n",
       "    </tr>\n",
       "    <tr>\n",
       "      <th>9</th>\n",
       "      <td>23-Oct</td>\n",
       "      <td>5023</td>\n",
       "    </tr>\n",
       "  </tbody>\n",
       "</table>\n",
       "</div>"
      ],
      "text/plain": [
       "     거래일자   거래량\n",
       "0  23-Jan  3254\n",
       "1  23-Feb  5376\n",
       "2  23-Mar  6059\n",
       "3  23-Apr  6076\n",
       "4  23-May  6783\n",
       "5  23-Jun  7084\n",
       "6  23-Jul  6855\n",
       "7  23-Aug  7028\n",
       "8  23-Sep  6493\n",
       "9  23-Oct  5023"
      ]
     },
     "execution_count": 238,
     "metadata": {},
     "output_type": "execute_result"
    }
   ],
   "source": [
    "df2"
   ]
  },
  {
   "cell_type": "code",
   "execution_count": 239,
   "id": "69a52799",
   "metadata": {},
   "outputs": [
    {
     "data": {
      "text/html": [
       "<div>\n",
       "<style scoped>\n",
       "    .dataframe tbody tr th:only-of-type {\n",
       "        vertical-align: middle;\n",
       "    }\n",
       "\n",
       "    .dataframe tbody tr th {\n",
       "        vertical-align: top;\n",
       "    }\n",
       "\n",
       "    .dataframe thead th {\n",
       "        text-align: right;\n",
       "    }\n",
       "</style>\n",
       "<table border=\"1\" class=\"dataframe\">\n",
       "  <thead>\n",
       "    <tr style=\"text-align: right;\">\n",
       "      <th></th>\n",
       "      <th>거래일자</th>\n",
       "      <th>거래량</th>\n",
       "    </tr>\n",
       "  </thead>\n",
       "  <tbody>\n",
       "    <tr>\n",
       "      <th>0</th>\n",
       "      <td>23-Jan</td>\n",
       "      <td>3254</td>\n",
       "    </tr>\n",
       "    <tr>\n",
       "      <th>1</th>\n",
       "      <td>23-Feb</td>\n",
       "      <td>5376</td>\n",
       "    </tr>\n",
       "    <tr>\n",
       "      <th>2</th>\n",
       "      <td>23-Mar</td>\n",
       "      <td>6059</td>\n",
       "    </tr>\n",
       "    <tr>\n",
       "      <th>3</th>\n",
       "      <td>23-Apr</td>\n",
       "      <td>6076</td>\n",
       "    </tr>\n",
       "    <tr>\n",
       "      <th>4</th>\n",
       "      <td>23-May</td>\n",
       "      <td>6783</td>\n",
       "    </tr>\n",
       "    <tr>\n",
       "      <th>5</th>\n",
       "      <td>23-Jun</td>\n",
       "      <td>7084</td>\n",
       "    </tr>\n",
       "    <tr>\n",
       "      <th>6</th>\n",
       "      <td>23-Jul</td>\n",
       "      <td>6855</td>\n",
       "    </tr>\n",
       "    <tr>\n",
       "      <th>7</th>\n",
       "      <td>23-Aug</td>\n",
       "      <td>7028</td>\n",
       "    </tr>\n",
       "    <tr>\n",
       "      <th>8</th>\n",
       "      <td>23-Sep</td>\n",
       "      <td>6493</td>\n",
       "    </tr>\n",
       "    <tr>\n",
       "      <th>9</th>\n",
       "      <td>23-Oct</td>\n",
       "      <td>5023</td>\n",
       "    </tr>\n",
       "  </tbody>\n",
       "</table>\n",
       "</div>"
      ],
      "text/plain": [
       "     거래일자   거래량\n",
       "0  23-Jan  3254\n",
       "1  23-Feb  5376\n",
       "2  23-Mar  6059\n",
       "3  23-Apr  6076\n",
       "4  23-May  6783\n",
       "5  23-Jun  7084\n",
       "6  23-Jul  6855\n",
       "7  23-Aug  7028\n",
       "8  23-Sep  6493\n",
       "9  23-Oct  5023"
      ]
     },
     "execution_count": 239,
     "metadata": {},
     "output_type": "execute_result"
    }
   ],
   "source": [
    "df2"
   ]
  },
  {
   "cell_type": "code",
   "execution_count": 235,
   "id": "63a7c628",
   "metadata": {},
   "outputs": [],
   "source": [
    "df2 = df2.set_index('거래일자')"
   ]
  },
  {
   "cell_type": "code",
   "execution_count": 242,
   "id": "7641dfd5",
   "metadata": {},
   "outputs": [
    {
     "data": {
      "text/plain": [
       "<Axes: title={'center': '2023년 서울시 부동산 실거래 변동'}, xlabel='거래일자'>"
      ]
     },
     "execution_count": 242,
     "metadata": {},
     "output_type": "execute_result"
    },
    {
     "data": {
      "image/png": "[encoded data removed]",
      "text/plain": [
       "<Figure size 640x480 with 1 Axes>"
      ]
     },
     "metadata": {},
     "output_type": "display_data"
    }
   ],
   "source": [
    "\n",
    "df2.plot(x='거래일자',y='거래량',title='2023년 서울시 부동산 실거래 변동',linewidth=3)"
   ]
  },
  {
   "cell_type": "code",
   "execution_count": 241,
   "id": "85afc4d9",
   "metadata": {},
   "outputs": [
    {
     "data": {
      "text/plain": [
       "Text(0.5, 0, '거래일자')"
      ]
     },
     "execution_count": 241,
     "metadata": {},
     "output_type": "execute_result"
    },
    {
     "data": {
      "image/png": "[encoded data removed]",
      "text/plain": [
       "<Figure size 640x480 with 1 Axes>"
      ]
     },
     "metadata": {},
     "output_type": "display_data"
    }
   ],
   "source": [
    "df2.plot()\n",
    "plt.title('거래량 변동')\n",
    "plt.xlabel('거래일자')"
   ]
  },
  {
   "cell_type": "code",
   "execution_count": null,
   "id": "d7e1c381",
   "metadata": {},
   "outputs": [],
   "source": []
  },
  {
   "cell_type": "code",
   "execution_count": null,
   "id": "863263f7",
   "metadata": {},
   "outputs": [],
   "source": []
  },
  {
   "cell_type": "code",
   "execution_count": null,
   "id": "19f16549",
   "metadata": {},
   "outputs": [],
   "source": []
  },
  {
   "cell_type": "code",
   "execution_count": null,
   "id": "8290737f",
   "metadata": {},
   "outputs": [],
   "source": []
  }
 ],
 "metadata": {
  "kernelspec": {
   "display_name": "Python 3 (ipykernel)",
   "language": "python",
   "name": "python3"
  },
  "language_info": {
   "codemirror_mode": {
    "name": "ipython",
    "version": 3
   },
   "file_extension": ".py",
   "mimetype": "text/x-python",
   "name": "python",
   "nbconvert_exporter": "python",
   "pygments_lexer": "ipython3",
   "version": "3.9.18"
  }
 },
 "nbformat": 4,
 "nbformat_minor": 5
}
