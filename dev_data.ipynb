{
 "cells": [
  {
   "cell_type": "code",
   "execution_count": 2,
   "id": "d108b154",
   "metadata": {},
   "outputs": [],
   "source": [
    "import pandas as pd\n",
    "import matplotlib.pyplot as plt\n",
    "import seaborn as sb\n",
    "\n",
    "import platform\n",
    "\n",
    "from matplotlib import font_manager, rc\n",
    "plt.rcParams['axes.unicode_minus'] = False\n",
    "\n",
    "if platform.system() == 'Darwin':\n",
    "    rc('font', family='AppleGothic')\n",
    "elif platform.system() == 'Windows':\n",
    "    path = \"c:/Windows/Fonts/malgun.ttf\"\n",
    "    font_name = font_manager.FontProperties(fname=path).get_name()\n",
    "    rc('font', family=font_name)\n",
    "else:\n",
    "    print('Unknown system... sorry~~~~')"
   ]
  },
  {
   "cell_type": "code",
   "execution_count": 3,
   "id": "2a06f4ea",
   "metadata": {},
   "outputs": [],
   "source": [
    "df = pd.read_csv('./data/dev.csv')"
   ]
  },
  {
   "cell_type": "code",
   "execution_count": 4,
   "id": "da55e52c",
   "metadata": {},
   "outputs": [],
   "source": [
    "df = df.drop( [ '법정동코드','자치구코드' ,'지번구분' ,'권리구분','취소일'] , axis=1)"
   ]
  },
  {
   "cell_type": "code",
   "execution_count": 5,
   "id": "a821bda5",
   "metadata": {},
   "outputs": [
    {
     "data": {
      "text/html": [
       "<div>\n",
       "<style scoped>\n",
       "    .dataframe tbody tr th:only-of-type {\n",
       "        vertical-align: middle;\n",
       "    }\n",
       "\n",
       "    .dataframe tbody tr th {\n",
       "        vertical-align: top;\n",
       "    }\n",
       "\n",
       "    .dataframe thead th {\n",
       "        text-align: right;\n",
       "    }\n",
       "</style>\n",
       "<table border=\"1\" class=\"dataframe\">\n",
       "  <thead>\n",
       "    <tr style=\"text-align: right;\">\n",
       "      <th></th>\n",
       "      <th>접수연도</th>\n",
       "      <th>자치구명</th>\n",
       "      <th>법정동명</th>\n",
       "      <th>지번구분명</th>\n",
       "      <th>본번</th>\n",
       "      <th>부번</th>\n",
       "      <th>건물명</th>\n",
       "      <th>계약일</th>\n",
       "      <th>물건금액(만원)</th>\n",
       "      <th>건물면적(㎡)</th>\n",
       "      <th>토지면적(㎡)</th>\n",
       "      <th>층</th>\n",
       "      <th>건축년도</th>\n",
       "      <th>건물용도</th>\n",
       "      <th>신고구분</th>\n",
       "      <th>신고한 개업공인중개사 시군구명</th>\n",
       "    </tr>\n",
       "  </thead>\n",
       "  <tbody>\n",
       "    <tr>\n",
       "      <th>0</th>\n",
       "      <td>2023</td>\n",
       "      <td>강서구</td>\n",
       "      <td>마곡동</td>\n",
       "      <td>대지</td>\n",
       "      <td>776.0</td>\n",
       "      <td>2.0</td>\n",
       "      <td>마곡센트럴대방디엠시티오피스텔</td>\n",
       "      <td>20231121</td>\n",
       "      <td>21500</td>\n",
       "      <td>29.48</td>\n",
       "      <td>42.34</td>\n",
       "      <td>3.0</td>\n",
       "      <td>2017.0</td>\n",
       "      <td>오피스텔</td>\n",
       "      <td>직거래</td>\n",
       "      <td>NaN</td>\n",
       "    </tr>\n",
       "    <tr>\n",
       "      <th>1</th>\n",
       "      <td>2023</td>\n",
       "      <td>동대문구</td>\n",
       "      <td>이문동</td>\n",
       "      <td>대지</td>\n",
       "      <td>327.0</td>\n",
       "      <td>7.0</td>\n",
       "      <td>세진빌딩</td>\n",
       "      <td>20231121</td>\n",
       "      <td>19000</td>\n",
       "      <td>11.48</td>\n",
       "      <td>0.00</td>\n",
       "      <td>12.0</td>\n",
       "      <td>2020.0</td>\n",
       "      <td>아파트</td>\n",
       "      <td>중개거래</td>\n",
       "      <td>서울 동대문구</td>\n",
       "    </tr>\n",
       "    <tr>\n",
       "      <th>2</th>\n",
       "      <td>2023</td>\n",
       "      <td>구로구</td>\n",
       "      <td>구로동</td>\n",
       "      <td>대지</td>\n",
       "      <td>98.0</td>\n",
       "      <td>10.0</td>\n",
       "      <td>비즈트위트그린</td>\n",
       "      <td>20231121</td>\n",
       "      <td>11250</td>\n",
       "      <td>14.86</td>\n",
       "      <td>0.00</td>\n",
       "      <td>16.0</td>\n",
       "      <td>2012.0</td>\n",
       "      <td>아파트</td>\n",
       "      <td>중개거래</td>\n",
       "      <td>서울 동작구</td>\n",
       "    </tr>\n",
       "    <tr>\n",
       "      <th>3</th>\n",
       "      <td>2023</td>\n",
       "      <td>송파구</td>\n",
       "      <td>오금동</td>\n",
       "      <td>대지</td>\n",
       "      <td>39.0</td>\n",
       "      <td>5.0</td>\n",
       "      <td>에일린하우스</td>\n",
       "      <td>20231121</td>\n",
       "      <td>58000</td>\n",
       "      <td>54.67</td>\n",
       "      <td>28.47</td>\n",
       "      <td>6.0</td>\n",
       "      <td>2016.0</td>\n",
       "      <td>연립다세대</td>\n",
       "      <td>직거래</td>\n",
       "      <td>NaN</td>\n",
       "    </tr>\n",
       "    <tr>\n",
       "      <th>4</th>\n",
       "      <td>2023</td>\n",
       "      <td>마포구</td>\n",
       "      <td>상암동</td>\n",
       "      <td>대지</td>\n",
       "      <td>1597.0</td>\n",
       "      <td>0.0</td>\n",
       "      <td>사보이시티디엠씨</td>\n",
       "      <td>20231121</td>\n",
       "      <td>15500</td>\n",
       "      <td>21.65</td>\n",
       "      <td>29.78</td>\n",
       "      <td>14.0</td>\n",
       "      <td>2016.0</td>\n",
       "      <td>오피스텔</td>\n",
       "      <td>중개거래</td>\n",
       "      <td>서울 은평구</td>\n",
       "    </tr>\n",
       "    <tr>\n",
       "      <th>...</th>\n",
       "      <td>...</td>\n",
       "      <td>...</td>\n",
       "      <td>...</td>\n",
       "      <td>...</td>\n",
       "      <td>...</td>\n",
       "      <td>...</td>\n",
       "      <td>...</td>\n",
       "      <td>...</td>\n",
       "      <td>...</td>\n",
       "      <td>...</td>\n",
       "      <td>...</td>\n",
       "      <td>...</td>\n",
       "      <td>...</td>\n",
       "      <td>...</td>\n",
       "      <td>...</td>\n",
       "      <td>...</td>\n",
       "    </tr>\n",
       "    <tr>\n",
       "      <th>62735</th>\n",
       "      <td>2023</td>\n",
       "      <td>강서구</td>\n",
       "      <td>공항동</td>\n",
       "      <td>대지</td>\n",
       "      <td>61.0</td>\n",
       "      <td>89.0</td>\n",
       "      <td>남성아트빌</td>\n",
       "      <td>20210125</td>\n",
       "      <td>36800</td>\n",
       "      <td>29.47</td>\n",
       "      <td>19.00</td>\n",
       "      <td>6.0</td>\n",
       "      <td>2015.0</td>\n",
       "      <td>연립다세대</td>\n",
       "      <td>NaN</td>\n",
       "      <td>NaN</td>\n",
       "    </tr>\n",
       "    <tr>\n",
       "      <th>62736</th>\n",
       "      <td>2023</td>\n",
       "      <td>은평구</td>\n",
       "      <td>신사동</td>\n",
       "      <td>대지</td>\n",
       "      <td>370.0</td>\n",
       "      <td>0.0</td>\n",
       "      <td>은평신사두산위브</td>\n",
       "      <td>20200608</td>\n",
       "      <td>73500</td>\n",
       "      <td>84.96</td>\n",
       "      <td>0.00</td>\n",
       "      <td>9.0</td>\n",
       "      <td>2006.0</td>\n",
       "      <td>아파트</td>\n",
       "      <td>NaN</td>\n",
       "      <td>NaN</td>\n",
       "    </tr>\n",
       "    <tr>\n",
       "      <th>62737</th>\n",
       "      <td>2023</td>\n",
       "      <td>마포구</td>\n",
       "      <td>성산동</td>\n",
       "      <td>대지</td>\n",
       "      <td>593.0</td>\n",
       "      <td>5.0</td>\n",
       "      <td>상암미르웰한올림</td>\n",
       "      <td>20181030</td>\n",
       "      <td>15500</td>\n",
       "      <td>16.36</td>\n",
       "      <td>22.99</td>\n",
       "      <td>13.0</td>\n",
       "      <td>2018.0</td>\n",
       "      <td>오피스텔</td>\n",
       "      <td>NaN</td>\n",
       "      <td>NaN</td>\n",
       "    </tr>\n",
       "    <tr>\n",
       "      <th>62738</th>\n",
       "      <td>2023</td>\n",
       "      <td>양천구</td>\n",
       "      <td>신월동</td>\n",
       "      <td>NaN</td>\n",
       "      <td>NaN</td>\n",
       "      <td>NaN</td>\n",
       "      <td>NaN</td>\n",
       "      <td>20161125</td>\n",
       "      <td>17800</td>\n",
       "      <td>70.09</td>\n",
       "      <td>86.00</td>\n",
       "      <td>NaN</td>\n",
       "      <td>1981.0</td>\n",
       "      <td>단독다가구</td>\n",
       "      <td>NaN</td>\n",
       "      <td>NaN</td>\n",
       "    </tr>\n",
       "    <tr>\n",
       "      <th>62739</th>\n",
       "      <td>2023</td>\n",
       "      <td>노원구</td>\n",
       "      <td>중계동</td>\n",
       "      <td>대지</td>\n",
       "      <td>511.0</td>\n",
       "      <td>2.0</td>\n",
       "      <td>목화(4단지)</td>\n",
       "      <td>20090219</td>\n",
       "      <td>8000</td>\n",
       "      <td>32.76</td>\n",
       "      <td>0.00</td>\n",
       "      <td>2.0</td>\n",
       "      <td>1991.0</td>\n",
       "      <td>아파트</td>\n",
       "      <td>NaN</td>\n",
       "      <td>NaN</td>\n",
       "    </tr>\n",
       "  </tbody>\n",
       "</table>\n",
       "<p>62740 rows × 16 columns</p>\n",
       "</div>"
      ],
      "text/plain": [
       "       접수연도  자치구명 법정동명 지번구분명      본번    부번              건물명       계약일  \\\n",
       "0      2023   강서구  마곡동    대지   776.0   2.0  마곡센트럴대방디엠시티오피스텔  20231121   \n",
       "1      2023  동대문구  이문동    대지   327.0   7.0             세진빌딩  20231121   \n",
       "2      2023   구로구  구로동    대지    98.0  10.0          비즈트위트그린  20231121   \n",
       "3      2023   송파구  오금동    대지    39.0   5.0           에일린하우스  20231121   \n",
       "4      2023   마포구  상암동    대지  1597.0   0.0         사보이시티디엠씨  20231121   \n",
       "...     ...   ...  ...   ...     ...   ...              ...       ...   \n",
       "62735  2023   강서구  공항동    대지    61.0  89.0            남성아트빌  20210125   \n",
       "62736  2023   은평구  신사동    대지   370.0   0.0         은평신사두산위브  20200608   \n",
       "62737  2023   마포구  성산동    대지   593.0   5.0         상암미르웰한올림  20181030   \n",
       "62738  2023   양천구  신월동   NaN     NaN   NaN              NaN  20161125   \n",
       "62739  2023   노원구  중계동    대지   511.0   2.0          목화(4단지)  20090219   \n",
       "\n",
       "       물건금액(만원)  건물면적(㎡)  토지면적(㎡)     층    건축년도   건물용도  신고구분 신고한 개업공인중개사 시군구명  \n",
       "0         21500    29.48    42.34   3.0  2017.0   오피스텔   직거래              NaN  \n",
       "1         19000    11.48     0.00  12.0  2020.0    아파트  중개거래          서울 동대문구  \n",
       "2         11250    14.86     0.00  16.0  2012.0    아파트  중개거래           서울 동작구  \n",
       "3         58000    54.67    28.47   6.0  2016.0  연립다세대   직거래              NaN  \n",
       "4         15500    21.65    29.78  14.0  2016.0   오피스텔  중개거래           서울 은평구  \n",
       "...         ...      ...      ...   ...     ...    ...   ...              ...  \n",
       "62735     36800    29.47    19.00   6.0  2015.0  연립다세대   NaN              NaN  \n",
       "62736     73500    84.96     0.00   9.0  2006.0    아파트   NaN              NaN  \n",
       "62737     15500    16.36    22.99  13.0  2018.0   오피스텔   NaN              NaN  \n",
       "62738     17800    70.09    86.00   NaN  1981.0  단독다가구   NaN              NaN  \n",
       "62739      8000    32.76     0.00   2.0  1991.0    아파트   NaN              NaN  \n",
       "\n",
       "[62740 rows x 16 columns]"
      ]
     },
     "execution_count": 5,
     "metadata": {},
     "output_type": "execute_result"
    }
   ],
   "source": [
    "df"
   ]
  },
  {
   "cell_type": "code",
   "execution_count": null,
   "id": "d68857a3",
   "metadata": {},
   "outputs": [],
   "source": []
  },
  {
   "cell_type": "code",
   "execution_count": 6,
   "id": "ac428b82",
   "metadata": {},
   "outputs": [
    {
     "data": {
      "text/plain": [
       "0        20231121\n",
       "1        20231121\n",
       "2        20231121\n",
       "3        20231121\n",
       "4        20231121\n",
       "           ...   \n",
       "62735    20210125\n",
       "62736    20200608\n",
       "62737    20181030\n",
       "62738    20161125\n",
       "62739    20090219\n",
       "Name: 계약일, Length: 62740, dtype: object"
      ]
     },
     "execution_count": 6,
     "metadata": {},
     "output_type": "execute_result"
    }
   ],
   "source": [
    "df['계약일'].astype(str)"
   ]
  },
  {
   "cell_type": "code",
   "execution_count": 7,
   "id": "4f30bf69",
   "metadata": {},
   "outputs": [
    {
     "ename": "KeyError",
     "evalue": "'게약일'",
     "output_type": "error",
     "traceback": [
      "\u001b[1;31m---------------------------------------------------------------------------\u001b[0m",
      "\u001b[1;31mKeyError\u001b[0m                                  Traceback (most recent call last)",
      "File \u001b[1;32m~\\anaconda3\\envs\\streamlit39\\lib\\site-packages\\pandas\\core\\indexes\\base.py:3790\u001b[0m, in \u001b[0;36mIndex.get_loc\u001b[1;34m(self, key)\u001b[0m\n\u001b[0;32m   3789\u001b[0m \u001b[38;5;28;01mtry\u001b[39;00m:\n\u001b[1;32m-> 3790\u001b[0m     \u001b[38;5;28;01mreturn\u001b[39;00m \u001b[38;5;28;43mself\u001b[39;49m\u001b[38;5;241;43m.\u001b[39;49m\u001b[43m_engine\u001b[49m\u001b[38;5;241;43m.\u001b[39;49m\u001b[43mget_loc\u001b[49m\u001b[43m(\u001b[49m\u001b[43mcasted_key\u001b[49m\u001b[43m)\u001b[49m\n\u001b[0;32m   3791\u001b[0m \u001b[38;5;28;01mexcept\u001b[39;00m \u001b[38;5;167;01mKeyError\u001b[39;00m \u001b[38;5;28;01mas\u001b[39;00m err:\n",
      "File \u001b[1;32mindex.pyx:152\u001b[0m, in \u001b[0;36mpandas._libs.index.IndexEngine.get_loc\u001b[1;34m()\u001b[0m\n",
      "File \u001b[1;32mindex.pyx:181\u001b[0m, in \u001b[0;36mpandas._libs.index.IndexEngine.get_loc\u001b[1;34m()\u001b[0m\n",
      "File \u001b[1;32mpandas\\_libs\\hashtable_class_helper.pxi:7080\u001b[0m, in \u001b[0;36mpandas._libs.hashtable.PyObjectHashTable.get_item\u001b[1;34m()\u001b[0m\n",
      "File \u001b[1;32mpandas\\_libs\\hashtable_class_helper.pxi:7088\u001b[0m, in \u001b[0;36mpandas._libs.hashtable.PyObjectHashTable.get_item\u001b[1;34m()\u001b[0m\n",
      "\u001b[1;31mKeyError\u001b[0m: '게약일'",
      "\nThe above exception was the direct cause of the following exception:\n",
      "\u001b[1;31mKeyError\u001b[0m                                  Traceback (most recent call last)",
      "Cell \u001b[1;32mIn[7], line 1\u001b[0m\n\u001b[1;32m----> 1\u001b[0m \u001b[43mdf\u001b[49m\u001b[43m[\u001b[49m\u001b[38;5;124;43m'\u001b[39;49m\u001b[38;5;124;43m게약일\u001b[39;49m\u001b[38;5;124;43m'\u001b[39;49m\u001b[43m]\u001b[49m\u001b[38;5;241m.\u001b[39mastype(\u001b[38;5;28mint\u001b[39m)\n",
      "File \u001b[1;32m~\\anaconda3\\envs\\streamlit39\\lib\\site-packages\\pandas\\core\\frame.py:3896\u001b[0m, in \u001b[0;36mDataFrame.__getitem__\u001b[1;34m(self, key)\u001b[0m\n\u001b[0;32m   3894\u001b[0m \u001b[38;5;28;01mif\u001b[39;00m \u001b[38;5;28mself\u001b[39m\u001b[38;5;241m.\u001b[39mcolumns\u001b[38;5;241m.\u001b[39mnlevels \u001b[38;5;241m>\u001b[39m \u001b[38;5;241m1\u001b[39m:\n\u001b[0;32m   3895\u001b[0m     \u001b[38;5;28;01mreturn\u001b[39;00m \u001b[38;5;28mself\u001b[39m\u001b[38;5;241m.\u001b[39m_getitem_multilevel(key)\n\u001b[1;32m-> 3896\u001b[0m indexer \u001b[38;5;241m=\u001b[39m \u001b[38;5;28;43mself\u001b[39;49m\u001b[38;5;241;43m.\u001b[39;49m\u001b[43mcolumns\u001b[49m\u001b[38;5;241;43m.\u001b[39;49m\u001b[43mget_loc\u001b[49m\u001b[43m(\u001b[49m\u001b[43mkey\u001b[49m\u001b[43m)\u001b[49m\n\u001b[0;32m   3897\u001b[0m \u001b[38;5;28;01mif\u001b[39;00m is_integer(indexer):\n\u001b[0;32m   3898\u001b[0m     indexer \u001b[38;5;241m=\u001b[39m [indexer]\n",
      "File \u001b[1;32m~\\anaconda3\\envs\\streamlit39\\lib\\site-packages\\pandas\\core\\indexes\\base.py:3797\u001b[0m, in \u001b[0;36mIndex.get_loc\u001b[1;34m(self, key)\u001b[0m\n\u001b[0;32m   3792\u001b[0m     \u001b[38;5;28;01mif\u001b[39;00m \u001b[38;5;28misinstance\u001b[39m(casted_key, \u001b[38;5;28mslice\u001b[39m) \u001b[38;5;129;01mor\u001b[39;00m (\n\u001b[0;32m   3793\u001b[0m         \u001b[38;5;28misinstance\u001b[39m(casted_key, abc\u001b[38;5;241m.\u001b[39mIterable)\n\u001b[0;32m   3794\u001b[0m         \u001b[38;5;129;01mand\u001b[39;00m \u001b[38;5;28many\u001b[39m(\u001b[38;5;28misinstance\u001b[39m(x, \u001b[38;5;28mslice\u001b[39m) \u001b[38;5;28;01mfor\u001b[39;00m x \u001b[38;5;129;01min\u001b[39;00m casted_key)\n\u001b[0;32m   3795\u001b[0m     ):\n\u001b[0;32m   3796\u001b[0m         \u001b[38;5;28;01mraise\u001b[39;00m InvalidIndexError(key)\n\u001b[1;32m-> 3797\u001b[0m     \u001b[38;5;28;01mraise\u001b[39;00m \u001b[38;5;167;01mKeyError\u001b[39;00m(key) \u001b[38;5;28;01mfrom\u001b[39;00m \u001b[38;5;21;01merr\u001b[39;00m\n\u001b[0;32m   3798\u001b[0m \u001b[38;5;28;01mexcept\u001b[39;00m \u001b[38;5;167;01mTypeError\u001b[39;00m:\n\u001b[0;32m   3799\u001b[0m     \u001b[38;5;66;03m# If we have a listlike key, _check_indexing_error will raise\u001b[39;00m\n\u001b[0;32m   3800\u001b[0m     \u001b[38;5;66;03m#  InvalidIndexError. Otherwise we fall through and re-raise\u001b[39;00m\n\u001b[0;32m   3801\u001b[0m     \u001b[38;5;66;03m#  the TypeError.\u001b[39;00m\n\u001b[0;32m   3802\u001b[0m     \u001b[38;5;28mself\u001b[39m\u001b[38;5;241m.\u001b[39m_check_indexing_error(key)\n",
      "\u001b[1;31mKeyError\u001b[0m: '게약일'"
     ]
    }
   ],
   "source": [
    "df['게약일'].astype(int)"
   ]
  },
  {
   "cell_type": "code",
   "execution_count": null,
   "id": "7e9888fb",
   "metadata": {},
   "outputs": [],
   "source": [
    "df['접수연도']"
   ]
  },
  {
   "cell_type": "code",
   "execution_count": null,
   "id": "c3da4c94",
   "metadata": {},
   "outputs": [],
   "source": [
    "df['본번'].astype(str)"
   ]
  },
  {
   "cell_type": "code",
   "execution_count": null,
   "id": "80b77316",
   "metadata": {},
   "outputs": [],
   "source": [
    "df['본번'].fillna(-1)"
   ]
  },
  {
   "cell_type": "code",
   "execution_count": null,
   "id": "aa7d4603",
   "metadata": {},
   "outputs": [],
   "source": [
    "df['건축년도']"
   ]
  },
  {
   "cell_type": "code",
   "execution_count": null,
   "id": "3cac1a33",
   "metadata": {},
   "outputs": [],
   "source": [
    "df['건물용도'].unique()"
   ]
  },
  {
   "cell_type": "code",
   "execution_count": null,
   "id": "d023f5a8",
   "metadata": {},
   "outputs": [],
   "source": [
    "pd.to_datetime(df['계약일'])"
   ]
  },
  {
   "cell_type": "code",
   "execution_count": null,
   "id": "3ef4135a",
   "metadata": {},
   "outputs": [],
   "source": [
    "pd.to_datetime(df['계약일'].astype(str))"
   ]
  },
  {
   "cell_type": "code",
   "execution_count": null,
   "id": "dbcba0e0",
   "metadata": {},
   "outputs": [],
   "source": [
    "pd.to_datetime(df['계약일'] , format='%Y%m%d')"
   ]
  },
  {
   "cell_type": "code",
   "execution_count": null,
   "id": "fb579901",
   "metadata": {},
   "outputs": [],
   "source": [
    "df"
   ]
  },
  {
   "cell_type": "code",
   "execution_count": null,
   "id": "5e74b34f",
   "metadata": {},
   "outputs": [],
   "source": [
    "df.loc[ df['건물용도'] =='오피스텔' , ].set_index('건물용도')"
   ]
  },
  {
   "cell_type": "code",
   "execution_count": null,
   "id": "f605ad4a",
   "metadata": {},
   "outputs": [],
   "source": [
    "df.loc[ df['건물용도'] =='아파트' , ].set_index('건물용도')"
   ]
  },
  {
   "cell_type": "code",
   "execution_count": null,
   "id": "dc5e61d5",
   "metadata": {},
   "outputs": [],
   "source": [
    "df.loc[ df['건물용도'] =='연립다세대' , ].reset_index()"
   ]
  },
  {
   "cell_type": "code",
   "execution_count": null,
   "id": "37d910b9",
   "metadata": {},
   "outputs": [],
   "source": [
    "df.loc[ df['건물용도'] =='단독다가구' , ].reset_index()"
   ]
  },
  {
   "cell_type": "code",
   "execution_count": null,
   "id": "4a857d47",
   "metadata": {},
   "outputs": [],
   "source": [
    "df['건물용도']"
   ]
  },
  {
   "cell_type": "code",
   "execution_count": null,
   "id": "884f62a3",
   "metadata": {},
   "outputs": [],
   "source": [
    "df['자치구명']"
   ]
  },
  {
   "cell_type": "code",
   "execution_count": null,
   "id": "1bf0f16c",
   "metadata": {},
   "outputs": [],
   "source": [
    "df_op = df.loc[ df['건물용도'] =='오피스텔' ,]"
   ]
  },
  {
   "cell_type": "code",
   "execution_count": null,
   "id": "1df75305",
   "metadata": {
    "scrolled": true
   },
   "outputs": [],
   "source": [
    "df_op"
   ]
  },
  {
   "cell_type": "code",
   "execution_count": null,
   "id": "c2703066",
   "metadata": {},
   "outputs": [],
   "source": [
    "df_op['자치구명'].value_counts().index"
   ]
  },
  {
   "cell_type": "code",
   "execution_count": null,
   "id": "eb7266c6",
   "metadata": {},
   "outputs": [],
   "source": [
    "df_op['자치구명']"
   ]
  },
  {
   "cell_type": "code",
   "execution_count": null,
   "id": "73cbb7e7",
   "metadata": {},
   "outputs": [],
   "source": [
    "ordef_op = df['자치구명'].value_counts().index"
   ]
  },
  {
   "cell_type": "code",
   "execution_count": null,
   "id": "4e251c32",
   "metadata": {},
   "outputs": [],
   "source": [
    "color_op = sb.color_palette()[2]"
   ]
  },
  {
   "cell_type": "code",
   "execution_count": null,
   "id": "98a086c9",
   "metadata": {},
   "outputs": [],
   "source": [
    "ordef_color = "
   ]
  },
  {
   "cell_type": "code",
   "execution_count": null,
   "id": "ec4113c4",
   "metadata": {},
   "outputs": [],
   "source": [
    "sb.countplot(data = df , y = df['자치구명'] , color= color_op , order= ordef_op )\n",
    "plt.title('자치구별 거래 건 수')\n",
    "plt.xlabel('거래 건 수( 단위 : 회 )')\n",
    "plt.show()"
   ]
  },
  {
   "cell_type": "code",
   "execution_count": null,
   "id": "fdb72fd1",
   "metadata": {},
   "outputs": [],
   "source": [
    "df_op = df.loc[ df['건물용도'] =='오피스텔' ,].set_index('건물용도')"
   ]
  },
  {
   "cell_type": "code",
   "execution_count": null,
   "id": "cb34083e",
   "metadata": {},
   "outputs": [],
   "source": [
    "df_op"
   ]
  },
  {
   "cell_type": "code",
   "execution_count": null,
   "id": "e9fb821b",
   "metadata": {},
   "outputs": [],
   "source": [
    "op_order = df_op['자치구명'].value_counts().index"
   ]
  },
  {
   "cell_type": "code",
   "execution_count": null,
   "id": "92727546",
   "metadata": {},
   "outputs": [],
   "source": [
    "op_color = sb.color_palette()[2]"
   ]
  },
  {
   "cell_type": "code",
   "execution_count": null,
   "id": "9e2171f6",
   "metadata": {},
   "outputs": [],
   "source": [
    "df_op = df.loc[ df['건물용도'] =='오피스텔' ,].set_index('건물용도')\n",
    "op_order = df_op['자치구명'].value_counts().index\n",
    "op_color = sb.color_palette()[2]\n",
    "sb.countplot( data = df_op , y = df_op['자치구명'] , color=op_color ,order=op_order )\n"
   ]
  },
  {
   "cell_type": "code",
   "execution_count": null,
   "id": "4246bd0f",
   "metadata": {},
   "outputs": [],
   "source": [
    "df_op_pie = df_op['자치구명'].value_counts().head()"
   ]
  },
  {
   "cell_type": "code",
   "execution_count": null,
   "id": "67b17439",
   "metadata": {},
   "outputs": [],
   "source": [
    "df_op_pie = df_op['자치구명'].value_counts().head()\n",
    "plt.pie(df_op_pie ,labels= df_op_pie.index, autopct='%.2f' , wedgeprops={'width' : 0.8} )\n",
    "\n"
   ]
  },
  {
   "cell_type": "code",
   "execution_count": null,
   "id": "4ad8fab7",
   "metadata": {},
   "outputs": [],
   "source": [
    "df_op.groupby('자치구명')['물건금액(만원)'].max()"
   ]
  },
  {
   "cell_type": "code",
   "execution_count": null,
   "id": "370c4070",
   "metadata": {},
   "outputs": [],
   "source": [
    "df_op"
   ]
  },
  {
   "cell_type": "code",
   "execution_count": null,
   "id": "ac0f6242",
   "metadata": {},
   "outputs": [],
   "source": [
    "plt.hist(data =df_op_2023 , x ='계약일' , rwidth= 0.8 , bins=10 )"
   ]
  },
  {
   "cell_type": "code",
   "execution_count": null,
   "id": "c339d8e4",
   "metadata": {},
   "outputs": [],
   "source": [
    "df_total = df.groupby('건물용도')['물건금액(만원)'].max()"
   ]
  },
  {
   "cell_type": "code",
   "execution_count": null,
   "id": "5a4735fa",
   "metadata": {},
   "outputs": [],
   "source": [
    "df_total = df.groupby('건물용도')['물건금액(만원)'].max()\n",
    "plt.pie(df_total, labels=df_total.index, autopct='%.2f' , startangle= 90 ,wedgeprops={'width' : 0.7} )\n"
   ]
  },
  {
   "cell_type": "code",
   "execution_count": null,
   "id": "941239c1",
   "metadata": {},
   "outputs": [],
   "source": [
    "df"
   ]
  },
  {
   "cell_type": "code",
   "execution_count": null,
   "id": "145f7fec",
   "metadata": {},
   "outputs": [],
   "source": [
    "df2 = df['자치구명'].value_counts().head()"
   ]
  },
  {
   "cell_type": "code",
   "execution_count": null,
   "id": "7a7f67a9",
   "metadata": {},
   "outputs": [],
   "source": [
    "plt.pie(df2 , labels=df2.index, autopct='%.2f',wedgeprops={'width':0.7})"
   ]
  },
  {
   "cell_type": "code",
   "execution_count": null,
   "id": "eacb904c",
   "metadata": {
    "scrolled": true
   },
   "outputs": [],
   "source": [
    "df['계약일'].value_counts().sort_index()"
   ]
  },
  {
   "cell_type": "code",
   "execution_count": null,
   "id": "240300f2",
   "metadata": {},
   "outputs": [],
   "source": [
    "df_newdate = df.loc[ df['계약일']>=20221100 , ]"
   ]
  },
  {
   "cell_type": "code",
   "execution_count": null,
   "id": "00abbb84",
   "metadata": {},
   "outputs": [],
   "source": [
    "df_newdate['계약일'].value_counts().sort_index()"
   ]
  },
  {
   "cell_type": "code",
   "execution_count": null,
   "id": "7062e9ef",
   "metadata": {},
   "outputs": [],
   "source": [
    "import numpy as np"
   ]
  },
  {
   "cell_type": "code",
   "execution_count": null,
   "id": "35649642",
   "metadata": {},
   "outputs": [],
   "source": [
    "df.groupby([ '건물용도'])['물건금액(만원)'].max()"
   ]
  },
  {
   "cell_type": "code",
   "execution_count": null,
   "id": "8a2c8288",
   "metadata": {},
   "outputs": [],
   "source": [
    "df"
   ]
  },
  {
   "cell_type": "code",
   "execution_count": null,
   "id": "4a8201b6",
   "metadata": {},
   "outputs": [],
   "source": [
    "df_count = df['건물용도'].value_counts().to_frame()\n",
    "df_count = df_count.rename(columns={ 'count' : '건 수'})"
   ]
  },
  {
   "cell_type": "code",
   "execution_count": null,
   "id": "61b97505",
   "metadata": {},
   "outputs": [],
   "source": [
    "df_max_price = df.groupby('건물용도')['물건금액(만원)'].agg([np.max , np.min])\n",
    "df_max_price = df_max_price.rename(columns={'max' : '최고가(만원)' , 'min' : '최저가(만원)'})"
   ]
  },
  {
   "cell_type": "code",
   "execution_count": null,
   "id": "798cbbd4",
   "metadata": {},
   "outputs": [],
   "source": [
    "pd.concat([df_count,df_max_price],axis = 1)"
   ]
  },
  {
   "cell_type": "code",
   "execution_count": null,
   "id": "3af7987b",
   "metadata": {},
   "outputs": [],
   "source": [
    "df_data_set = df.loc[ df['계약일'] >= 20230101 , ].set_index('계약일').sort_index()"
   ]
  },
  {
   "cell_type": "code",
   "execution_count": null,
   "id": "65bb136c",
   "metadata": {},
   "outputs": [],
   "source": [
    "df_data_set.index.nunique()"
   ]
  },
  {
   "cell_type": "code",
   "execution_count": null,
   "id": "1b6905c0",
   "metadata": {},
   "outputs": [],
   "source": [
    "df_data_set = df.loc[ df['계약일'] >= 20230101 , ]"
   ]
  },
  {
   "cell_type": "code",
   "execution_count": null,
   "id": "8c6f6c29",
   "metadata": {},
   "outputs": [],
   "source": [
    "df_data_set['계약일']"
   ]
  },
  {
   "cell_type": "code",
   "execution_count": null,
   "id": "d72d60b4",
   "metadata": {},
   "outputs": [],
   "source": [
    "((df_data_set['계약일']>=20230101) & (df_data_set['계약일']<=20230201)).sum()"
   ]
  },
  {
   "cell_type": "code",
   "execution_count": null,
   "id": "8dc775bd",
   "metadata": {},
   "outputs": [],
   "source": [
    "((df['계약일']>=20231101) & (df['계약일']<=20231131)).sum()"
   ]
  },
  {
   "cell_type": "code",
   "execution_count": null,
   "id": "8dac42d6",
   "metadata": {},
   "outputs": [],
   "source": [
    "(df['계약일'] == 20230201).sum()"
   ]
  },
  {
   "cell_type": "code",
   "execution_count": null,
   "id": "54d95a01",
   "metadata": {},
   "outputs": [],
   "source": [
    "df2 = pd.read_csv('./data/dev2.csv')"
   ]
  },
  {
   "cell_type": "code",
   "execution_count": null,
   "id": "b135a945",
   "metadata": {},
   "outputs": [],
   "source": [
    "df2"
   ]
  },
  {
   "cell_type": "code",
   "execution_count": null,
   "id": "e0e0c426",
   "metadata": {},
   "outputs": [],
   "source": [
    "df2"
   ]
  },
  {
   "cell_type": "code",
   "execution_count": null,
   "id": "01cb8c61",
   "metadata": {},
   "outputs": [],
   "source": [
    "df2 = df2.set_index('거래일자')"
   ]
  },
  {
   "cell_type": "code",
   "execution_count": null,
   "id": "be3dafc0",
   "metadata": {},
   "outputs": [],
   "source": [
    "df2.plot()"
   ]
  },
  {
   "cell_type": "code",
   "execution_count": null,
   "id": "baf6ab77",
   "metadata": {},
   "outputs": [],
   "source": [
    "plt.plot(df2['거래일자'],df2['거래량'])\n",
    "plt.xticks(rotation=45)"
   ]
  },
  {
   "cell_type": "code",
   "execution_count": null,
   "id": "bb124ecc",
   "metadata": {},
   "outputs": [],
   "source": [
    "import plotly.express as px"
   ]
  },
  {
   "cell_type": "code",
   "execution_count": null,
   "id": "038b2d37",
   "metadata": {},
   "outputs": [],
   "source": [
    "px.line(df2,x='거래일자',y='거래량',title='2023년 서울시 부동산 실거래 변동(월별)')"
   ]
  },
  {
   "cell_type": "code",
   "execution_count": null,
   "id": "4c13045d",
   "metadata": {},
   "outputs": [],
   "source": [
    "px.pie(data_frame=df['건물용도'].value_counts(),name=df['건물용도'].value_counts().index)"
   ]
  },
  {
   "cell_type": "code",
   "execution_count": 25,
   "id": "2819eeab",
   "metadata": {},
   "outputs": [
    {
     "data": {
      "text/plain": [
       "건물용도\n",
       "아파트      32926\n",
       "연립다세대    19925\n",
       "오피스텔      7492\n",
       "단독다가구     2397\n",
       "Name: count, dtype: int64"
      ]
     },
     "execution_count": 25,
     "metadata": {},
     "output_type": "execute_result"
    }
   ],
   "source": [
    "df['건물용도'].value_counts()"
   ]
  },
  {
   "cell_type": "code",
   "execution_count": 28,
   "id": "0307b587",
   "metadata": {},
   "outputs": [],
   "source": [
    "df3 =df.loc[df['건물명'].notna() , ]"
   ]
  },
  {
   "cell_type": "code",
   "execution_count": 29,
   "id": "b9610e26",
   "metadata": {},
   "outputs": [
    {
     "data": {
      "text/html": [
       "<div>\n",
       "<style scoped>\n",
       "    .dataframe tbody tr th:only-of-type {\n",
       "        vertical-align: middle;\n",
       "    }\n",
       "\n",
       "    .dataframe tbody tr th {\n",
       "        vertical-align: top;\n",
       "    }\n",
       "\n",
       "    .dataframe thead th {\n",
       "        text-align: right;\n",
       "    }\n",
       "</style>\n",
       "<table border=\"1\" class=\"dataframe\">\n",
       "  <thead>\n",
       "    <tr style=\"text-align: right;\">\n",
       "      <th></th>\n",
       "      <th>접수연도</th>\n",
       "      <th>자치구명</th>\n",
       "      <th>법정동명</th>\n",
       "      <th>지번구분명</th>\n",
       "      <th>본번</th>\n",
       "      <th>부번</th>\n",
       "      <th>건물명</th>\n",
       "      <th>계약일</th>\n",
       "      <th>물건금액(만원)</th>\n",
       "      <th>건물면적(㎡)</th>\n",
       "      <th>토지면적(㎡)</th>\n",
       "      <th>층</th>\n",
       "      <th>건축년도</th>\n",
       "      <th>건물용도</th>\n",
       "      <th>신고구분</th>\n",
       "      <th>신고한 개업공인중개사 시군구명</th>\n",
       "    </tr>\n",
       "  </thead>\n",
       "  <tbody>\n",
       "    <tr>\n",
       "      <th>0</th>\n",
       "      <td>2023</td>\n",
       "      <td>강서구</td>\n",
       "      <td>마곡동</td>\n",
       "      <td>대지</td>\n",
       "      <td>776.0</td>\n",
       "      <td>2.0</td>\n",
       "      <td>마곡센트럴대방디엠시티오피스텔</td>\n",
       "      <td>20231121</td>\n",
       "      <td>21500</td>\n",
       "      <td>29.48</td>\n",
       "      <td>42.34</td>\n",
       "      <td>3.0</td>\n",
       "      <td>2017.0</td>\n",
       "      <td>오피스텔</td>\n",
       "      <td>직거래</td>\n",
       "      <td>NaN</td>\n",
       "    </tr>\n",
       "    <tr>\n",
       "      <th>1</th>\n",
       "      <td>2023</td>\n",
       "      <td>동대문구</td>\n",
       "      <td>이문동</td>\n",
       "      <td>대지</td>\n",
       "      <td>327.0</td>\n",
       "      <td>7.0</td>\n",
       "      <td>세진빌딩</td>\n",
       "      <td>20231121</td>\n",
       "      <td>19000</td>\n",
       "      <td>11.48</td>\n",
       "      <td>0.00</td>\n",
       "      <td>12.0</td>\n",
       "      <td>2020.0</td>\n",
       "      <td>아파트</td>\n",
       "      <td>중개거래</td>\n",
       "      <td>서울 동대문구</td>\n",
       "    </tr>\n",
       "    <tr>\n",
       "      <th>2</th>\n",
       "      <td>2023</td>\n",
       "      <td>구로구</td>\n",
       "      <td>구로동</td>\n",
       "      <td>대지</td>\n",
       "      <td>98.0</td>\n",
       "      <td>10.0</td>\n",
       "      <td>비즈트위트그린</td>\n",
       "      <td>20231121</td>\n",
       "      <td>11250</td>\n",
       "      <td>14.86</td>\n",
       "      <td>0.00</td>\n",
       "      <td>16.0</td>\n",
       "      <td>2012.0</td>\n",
       "      <td>아파트</td>\n",
       "      <td>중개거래</td>\n",
       "      <td>서울 동작구</td>\n",
       "    </tr>\n",
       "    <tr>\n",
       "      <th>3</th>\n",
       "      <td>2023</td>\n",
       "      <td>송파구</td>\n",
       "      <td>오금동</td>\n",
       "      <td>대지</td>\n",
       "      <td>39.0</td>\n",
       "      <td>5.0</td>\n",
       "      <td>에일린하우스</td>\n",
       "      <td>20231121</td>\n",
       "      <td>58000</td>\n",
       "      <td>54.67</td>\n",
       "      <td>28.47</td>\n",
       "      <td>6.0</td>\n",
       "      <td>2016.0</td>\n",
       "      <td>연립다세대</td>\n",
       "      <td>직거래</td>\n",
       "      <td>NaN</td>\n",
       "    </tr>\n",
       "    <tr>\n",
       "      <th>4</th>\n",
       "      <td>2023</td>\n",
       "      <td>마포구</td>\n",
       "      <td>상암동</td>\n",
       "      <td>대지</td>\n",
       "      <td>1597.0</td>\n",
       "      <td>0.0</td>\n",
       "      <td>사보이시티디엠씨</td>\n",
       "      <td>20231121</td>\n",
       "      <td>15500</td>\n",
       "      <td>21.65</td>\n",
       "      <td>29.78</td>\n",
       "      <td>14.0</td>\n",
       "      <td>2016.0</td>\n",
       "      <td>오피스텔</td>\n",
       "      <td>중개거래</td>\n",
       "      <td>서울 은평구</td>\n",
       "    </tr>\n",
       "    <tr>\n",
       "      <th>...</th>\n",
       "      <td>...</td>\n",
       "      <td>...</td>\n",
       "      <td>...</td>\n",
       "      <td>...</td>\n",
       "      <td>...</td>\n",
       "      <td>...</td>\n",
       "      <td>...</td>\n",
       "      <td>...</td>\n",
       "      <td>...</td>\n",
       "      <td>...</td>\n",
       "      <td>...</td>\n",
       "      <td>...</td>\n",
       "      <td>...</td>\n",
       "      <td>...</td>\n",
       "      <td>...</td>\n",
       "      <td>...</td>\n",
       "    </tr>\n",
       "    <tr>\n",
       "      <th>62734</th>\n",
       "      <td>2023</td>\n",
       "      <td>마포구</td>\n",
       "      <td>합정동</td>\n",
       "      <td>대지</td>\n",
       "      <td>381.0</td>\n",
       "      <td>50.0</td>\n",
       "      <td>(381-50)</td>\n",
       "      <td>20210217</td>\n",
       "      <td>100000</td>\n",
       "      <td>61.19</td>\n",
       "      <td>46.45</td>\n",
       "      <td>1.0</td>\n",
       "      <td>1977.0</td>\n",
       "      <td>연립다세대</td>\n",
       "      <td>NaN</td>\n",
       "      <td>NaN</td>\n",
       "    </tr>\n",
       "    <tr>\n",
       "      <th>62735</th>\n",
       "      <td>2023</td>\n",
       "      <td>강서구</td>\n",
       "      <td>공항동</td>\n",
       "      <td>대지</td>\n",
       "      <td>61.0</td>\n",
       "      <td>89.0</td>\n",
       "      <td>남성아트빌</td>\n",
       "      <td>20210125</td>\n",
       "      <td>36800</td>\n",
       "      <td>29.47</td>\n",
       "      <td>19.00</td>\n",
       "      <td>6.0</td>\n",
       "      <td>2015.0</td>\n",
       "      <td>연립다세대</td>\n",
       "      <td>NaN</td>\n",
       "      <td>NaN</td>\n",
       "    </tr>\n",
       "    <tr>\n",
       "      <th>62736</th>\n",
       "      <td>2023</td>\n",
       "      <td>은평구</td>\n",
       "      <td>신사동</td>\n",
       "      <td>대지</td>\n",
       "      <td>370.0</td>\n",
       "      <td>0.0</td>\n",
       "      <td>은평신사두산위브</td>\n",
       "      <td>20200608</td>\n",
       "      <td>73500</td>\n",
       "      <td>84.96</td>\n",
       "      <td>0.00</td>\n",
       "      <td>9.0</td>\n",
       "      <td>2006.0</td>\n",
       "      <td>아파트</td>\n",
       "      <td>NaN</td>\n",
       "      <td>NaN</td>\n",
       "    </tr>\n",
       "    <tr>\n",
       "      <th>62737</th>\n",
       "      <td>2023</td>\n",
       "      <td>마포구</td>\n",
       "      <td>성산동</td>\n",
       "      <td>대지</td>\n",
       "      <td>593.0</td>\n",
       "      <td>5.0</td>\n",
       "      <td>상암미르웰한올림</td>\n",
       "      <td>20181030</td>\n",
       "      <td>15500</td>\n",
       "      <td>16.36</td>\n",
       "      <td>22.99</td>\n",
       "      <td>13.0</td>\n",
       "      <td>2018.0</td>\n",
       "      <td>오피스텔</td>\n",
       "      <td>NaN</td>\n",
       "      <td>NaN</td>\n",
       "    </tr>\n",
       "    <tr>\n",
       "      <th>62739</th>\n",
       "      <td>2023</td>\n",
       "      <td>노원구</td>\n",
       "      <td>중계동</td>\n",
       "      <td>대지</td>\n",
       "      <td>511.0</td>\n",
       "      <td>2.0</td>\n",
       "      <td>목화(4단지)</td>\n",
       "      <td>20090219</td>\n",
       "      <td>8000</td>\n",
       "      <td>32.76</td>\n",
       "      <td>0.00</td>\n",
       "      <td>2.0</td>\n",
       "      <td>1991.0</td>\n",
       "      <td>아파트</td>\n",
       "      <td>NaN</td>\n",
       "      <td>NaN</td>\n",
       "    </tr>\n",
       "  </tbody>\n",
       "</table>\n",
       "<p>60334 rows × 16 columns</p>\n",
       "</div>"
      ],
      "text/plain": [
       "       접수연도  자치구명 법정동명 지번구분명      본번    부번              건물명       계약일  \\\n",
       "0      2023   강서구  마곡동    대지   776.0   2.0  마곡센트럴대방디엠시티오피스텔  20231121   \n",
       "1      2023  동대문구  이문동    대지   327.0   7.0             세진빌딩  20231121   \n",
       "2      2023   구로구  구로동    대지    98.0  10.0          비즈트위트그린  20231121   \n",
       "3      2023   송파구  오금동    대지    39.0   5.0           에일린하우스  20231121   \n",
       "4      2023   마포구  상암동    대지  1597.0   0.0         사보이시티디엠씨  20231121   \n",
       "...     ...   ...  ...   ...     ...   ...              ...       ...   \n",
       "62734  2023   마포구  합정동    대지   381.0  50.0         (381-50)  20210217   \n",
       "62735  2023   강서구  공항동    대지    61.0  89.0            남성아트빌  20210125   \n",
       "62736  2023   은평구  신사동    대지   370.0   0.0         은평신사두산위브  20200608   \n",
       "62737  2023   마포구  성산동    대지   593.0   5.0         상암미르웰한올림  20181030   \n",
       "62739  2023   노원구  중계동    대지   511.0   2.0          목화(4단지)  20090219   \n",
       "\n",
       "       물건금액(만원)  건물면적(㎡)  토지면적(㎡)     층    건축년도   건물용도  신고구분 신고한 개업공인중개사 시군구명  \n",
       "0         21500    29.48    42.34   3.0  2017.0   오피스텔   직거래              NaN  \n",
       "1         19000    11.48     0.00  12.0  2020.0    아파트  중개거래          서울 동대문구  \n",
       "2         11250    14.86     0.00  16.0  2012.0    아파트  중개거래           서울 동작구  \n",
       "3         58000    54.67    28.47   6.0  2016.0  연립다세대   직거래              NaN  \n",
       "4         15500    21.65    29.78  14.0  2016.0   오피스텔  중개거래           서울 은평구  \n",
       "...         ...      ...      ...   ...     ...    ...   ...              ...  \n",
       "62734    100000    61.19    46.45   1.0  1977.0  연립다세대   NaN              NaN  \n",
       "62735     36800    29.47    19.00   6.0  2015.0  연립다세대   NaN              NaN  \n",
       "62736     73500    84.96     0.00   9.0  2006.0    아파트   NaN              NaN  \n",
       "62737     15500    16.36    22.99  13.0  2018.0   오피스텔   NaN              NaN  \n",
       "62739      8000    32.76     0.00   2.0  1991.0    아파트   NaN              NaN  \n",
       "\n",
       "[60334 rows x 16 columns]"
      ]
     },
     "execution_count": 29,
     "metadata": {},
     "output_type": "execute_result"
    }
   ],
   "source": [
    "df3"
   ]
  },
  {
   "cell_type": "code",
   "execution_count": 30,
   "id": "ecd9123d",
   "metadata": {},
   "outputs": [],
   "source": [
    "df3 =df3['건물명'].value_counts().head()"
   ]
  },
  {
   "cell_type": "code",
   "execution_count": 35,
   "id": "eda09ae0",
   "metadata": {},
   "outputs": [
    {
     "data": {
      "text/html": [
       "<div>\n",
       "<style scoped>\n",
       "    .dataframe tbody tr th:only-of-type {\n",
       "        vertical-align: middle;\n",
       "    }\n",
       "\n",
       "    .dataframe tbody tr th {\n",
       "        vertical-align: top;\n",
       "    }\n",
       "\n",
       "    .dataframe thead th {\n",
       "        text-align: right;\n",
       "    }\n",
       "</style>\n",
       "<table border=\"1\" class=\"dataframe\">\n",
       "  <thead>\n",
       "    <tr style=\"text-align: right;\">\n",
       "      <th></th>\n",
       "      <th>건 수</th>\n",
       "    </tr>\n",
       "    <tr>\n",
       "      <th>건물명</th>\n",
       "      <th></th>\n",
       "    </tr>\n",
       "  </thead>\n",
       "  <tbody>\n",
       "    <tr>\n",
       "      <th>헬리오시티</th>\n",
       "      <td>314</td>\n",
       "    </tr>\n",
       "    <tr>\n",
       "      <th>현대</th>\n",
       "      <td>265</td>\n",
       "    </tr>\n",
       "    <tr>\n",
       "      <th>베르디움STAY1</th>\n",
       "      <td>252</td>\n",
       "    </tr>\n",
       "    <tr>\n",
       "      <th>두산</th>\n",
       "      <td>246</td>\n",
       "    </tr>\n",
       "    <tr>\n",
       "      <th>파크리오</th>\n",
       "      <td>220</td>\n",
       "    </tr>\n",
       "  </tbody>\n",
       "</table>\n",
       "</div>"
      ],
      "text/plain": [
       "           건 수\n",
       "건물명           \n",
       "헬리오시티      314\n",
       "현대         265\n",
       "베르디움STAY1  252\n",
       "두산         246\n",
       "파크리오       220"
      ]
     },
     "execution_count": 35,
     "metadata": {},
     "output_type": "execute_result"
    }
   ],
   "source": [
    "df3.to_frame().rename(columns={'count' : '건 수'})"
   ]
  },
  {
   "cell_type": "code",
   "execution_count": null,
   "id": "e9529c83",
   "metadata": {},
   "outputs": [],
   "source": []
  },
  {
   "cell_type": "code",
   "execution_count": null,
   "id": "341e0991",
   "metadata": {},
   "outputs": [],
   "source": []
  },
  {
   "cell_type": "code",
   "execution_count": null,
   "id": "065ce23d",
   "metadata": {},
   "outputs": [],
   "source": []
  },
  {
   "cell_type": "code",
   "execution_count": null,
   "id": "6d2cdc7b",
   "metadata": {},
   "outputs": [],
   "source": []
  },
  {
   "cell_type": "code",
   "execution_count": null,
   "id": "b96fbe42",
   "metadata": {},
   "outputs": [],
   "source": []
  },
  {
   "cell_type": "code",
   "execution_count": null,
   "id": "47e76af4",
   "metadata": {},
   "outputs": [],
   "source": []
  }
 ],
 "metadata": {
  "kernelspec": {
   "display_name": "Python 3 (ipykernel)",
   "language": "python",
   "name": "python3"
  },
  "language_info": {
   "codemirror_mode": {
    "name": "ipython",
    "version": 3
   },
   "file_extension": ".py",
   "mimetype": "text/x-python",
   "name": "python",
   "nbconvert_exporter": "python",
   "pygments_lexer": "ipython3",
   "version": "3.9.18"
  }
 },
 "nbformat": 4,
 "nbformat_minor": 5
}
